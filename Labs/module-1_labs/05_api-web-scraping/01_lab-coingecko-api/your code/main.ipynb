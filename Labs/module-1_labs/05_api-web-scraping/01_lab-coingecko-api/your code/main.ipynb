{
 "cells": [
  {
   "cell_type": "markdown",
   "metadata": {},
   "source": [
    "##  Imports"
   ]
  },
  {
   "cell_type": "code",
   "execution_count": 2,
   "metadata": {},
   "outputs": [],
   "source": [
    "import pandas as pd\n",
    "import requests\n",
    "import json\n",
    "import matplotlib\n",
    "%matplotlib inline"
   ]
  },
  {
   "cell_type": "markdown",
   "metadata": {},
   "source": [
    "### Challenge 1: \n",
    "\n",
    "Get the Bitcoin market value vs USD for last 30 days. For your results, you would like to deliver them both as a DataFrame and then create an appropriate plot.\n",
    "\n",
    "Hint: start by creating a base_url for the Coingecko API, and then adding the parameters you want by looking at the documentation, which you can find here: https://www.coingecko.com/api/documentations/v3#\n",
    "\n",
    "Specifically in this example, we are looking at: https://www.coingecko.com/api/documentations/v3#/coins/get_coins__id__market_chart\n",
    "\n",
    "You want a coin (Bitcoin), vs USD, timeframe of 30 days.\n",
    "\n",
    "For creating the DataFrame, you can print out all of the keys of your resulting json file, to see which ones you would like to extract as columns! The timestamp for these dataseries is in milliseconds - you can convert it to a convenient format using pd.to_datetime (look into how you can specify the unit here!)"
   ]
  },
  {
   "cell_type": "code",
   "execution_count": 59,
   "metadata": {},
   "outputs": [
    {
     "name": "stdout",
     "output_type": "stream",
     "text": [
      "dict_keys(['prices', 'market_caps', 'total_volumes'])\n"
     ]
    }
   ],
   "source": [
    "# Your code here:\n",
    "base = 'https://api.coingecko.com/api/v3/'\n",
    "url = base + 'coins/bitcoin/market_chart'\n",
    "param_dict = {'id':'bitcoin', 'vs_currency':'usd', 'days':30}\n",
    "\n",
    "response = requests.get(url, params=param_dict)\n",
    "results = response.json()\n",
    "\n",
    "print(results.keys())\n",
    "\n",
    "# now create a dataframe and a plot!"
   ]
  },
  {
   "cell_type": "code",
   "execution_count": 60,
   "metadata": {},
   "outputs": [
    {
     "data": {
      "text/html": [
       "<div>\n",
       "<style scoped>\n",
       "    .dataframe tbody tr th:only-of-type {\n",
       "        vertical-align: middle;\n",
       "    }\n",
       "\n",
       "    .dataframe tbody tr th {\n",
       "        vertical-align: top;\n",
       "    }\n",
       "\n",
       "    .dataframe thead th {\n",
       "        text-align: right;\n",
       "    }\n",
       "</style>\n",
       "<table border=\"1\" class=\"dataframe\">\n",
       "  <thead>\n",
       "    <tr style=\"text-align: right;\">\n",
       "      <th></th>\n",
       "      <th>prices</th>\n",
       "      <th>market_caps</th>\n",
       "      <th>total_volumes</th>\n",
       "    </tr>\n",
       "  </thead>\n",
       "  <tbody>\n",
       "    <tr>\n",
       "      <th>0</th>\n",
       "      <td>[1599591889351, 9978.866934296146]</td>\n",
       "      <td>[1599591889351, 184569293251.3465]</td>\n",
       "      <td>[1599591889351, 45951802996.117905]</td>\n",
       "    </tr>\n",
       "    <tr>\n",
       "      <th>1</th>\n",
       "      <td>[1599595752369, 10035.487961581819]</td>\n",
       "      <td>[1599595752369, 184880236764.03738]</td>\n",
       "      <td>[1599595752369, 46370746574.33752]</td>\n",
       "    </tr>\n",
       "    <tr>\n",
       "      <th>2</th>\n",
       "      <td>[1599599220045, 10004.316333886345]</td>\n",
       "      <td>[1599599220045, 185349979454.20566]</td>\n",
       "      <td>[1599599220045, 46344831359.60129]</td>\n",
       "    </tr>\n",
       "    <tr>\n",
       "      <th>3</th>\n",
       "      <td>[1599602533874, 10035.279584199028]</td>\n",
       "      <td>[1599602533874, 184861301524.87192]</td>\n",
       "      <td>[1599602533874, 46651630923.38908]</td>\n",
       "    </tr>\n",
       "    <tr>\n",
       "      <th>4</th>\n",
       "      <td>[1599606258405, 10113.466232225257]</td>\n",
       "      <td>[1599606258405, 185911995722.94482]</td>\n",
       "      <td>[1599606258405, 47713413472.75949]</td>\n",
       "    </tr>\n",
       "    <tr>\n",
       "      <th>...</th>\n",
       "      <td>...</td>\n",
       "      <td>...</td>\n",
       "      <td>...</td>\n",
       "    </tr>\n",
       "    <tr>\n",
       "      <th>716</th>\n",
       "      <td>[1602169732776, 10914.223466384938]</td>\n",
       "      <td>[1602169732776, 201879529063.36963]</td>\n",
       "      <td>[1602169732776, 19455345247.116875]</td>\n",
       "    </tr>\n",
       "    <tr>\n",
       "      <th>717</th>\n",
       "      <td>[1602173379632, 10905.082525549686]</td>\n",
       "      <td>[1602173379632, 201688770809.50494]</td>\n",
       "      <td>[1602173379632, 19579021043.82126]</td>\n",
       "    </tr>\n",
       "    <tr>\n",
       "      <th>718</th>\n",
       "      <td>[1602176521391, 10923.247265075319]</td>\n",
       "      <td>[1602176521391, 201832143219.96494]</td>\n",
       "      <td>[1602176521391, 19844676458.317688]</td>\n",
       "    </tr>\n",
       "    <tr>\n",
       "      <th>719</th>\n",
       "      <td>[1602180283163, 10876.165447382018]</td>\n",
       "      <td>[1602180283163, 201334539097.3338]</td>\n",
       "      <td>[1602180283163, 19981455146.48945]</td>\n",
       "    </tr>\n",
       "    <tr>\n",
       "      <th>720</th>\n",
       "      <td>[1602183200000, 10877.60514276677]</td>\n",
       "      <td>[1602183200000, 201407214414.51517]</td>\n",
       "      <td>[1602183200000, 19859756167.586864]</td>\n",
       "    </tr>\n",
       "  </tbody>\n",
       "</table>\n",
       "<p>721 rows × 3 columns</p>\n",
       "</div>"
      ],
      "text/plain": [
       "                                  prices                          market_caps  \\\n",
       "0     [1599591889351, 9978.866934296146]   [1599591889351, 184569293251.3465]   \n",
       "1    [1599595752369, 10035.487961581819]  [1599595752369, 184880236764.03738]   \n",
       "2    [1599599220045, 10004.316333886345]  [1599599220045, 185349979454.20566]   \n",
       "3    [1599602533874, 10035.279584199028]  [1599602533874, 184861301524.87192]   \n",
       "4    [1599606258405, 10113.466232225257]  [1599606258405, 185911995722.94482]   \n",
       "..                                   ...                                  ...   \n",
       "716  [1602169732776, 10914.223466384938]  [1602169732776, 201879529063.36963]   \n",
       "717  [1602173379632, 10905.082525549686]  [1602173379632, 201688770809.50494]   \n",
       "718  [1602176521391, 10923.247265075319]  [1602176521391, 201832143219.96494]   \n",
       "719  [1602180283163, 10876.165447382018]   [1602180283163, 201334539097.3338]   \n",
       "720   [1602183200000, 10877.60514276677]  [1602183200000, 201407214414.51517]   \n",
       "\n",
       "                           total_volumes  \n",
       "0    [1599591889351, 45951802996.117905]  \n",
       "1     [1599595752369, 46370746574.33752]  \n",
       "2     [1599599220045, 46344831359.60129]  \n",
       "3     [1599602533874, 46651630923.38908]  \n",
       "4     [1599606258405, 47713413472.75949]  \n",
       "..                                   ...  \n",
       "716  [1602169732776, 19455345247.116875]  \n",
       "717   [1602173379632, 19579021043.82126]  \n",
       "718  [1602176521391, 19844676458.317688]  \n",
       "719   [1602180283163, 19981455146.48945]  \n",
       "720  [1602183200000, 19859756167.586864]  \n",
       "\n",
       "[721 rows x 3 columns]"
      ]
     },
     "execution_count": 60,
     "metadata": {},
     "output_type": "execute_result"
    }
   ],
   "source": [
    "bitcoin = pd.DataFrame(results)\n",
    "bitcoin"
   ]
  },
  {
   "cell_type": "code",
   "execution_count": 61,
   "metadata": {},
   "outputs": [
    {
     "data": {
      "text/html": [
       "<div>\n",
       "<style scoped>\n",
       "    .dataframe tbody tr th:only-of-type {\n",
       "        vertical-align: middle;\n",
       "    }\n",
       "\n",
       "    .dataframe tbody tr th {\n",
       "        vertical-align: top;\n",
       "    }\n",
       "\n",
       "    .dataframe thead th {\n",
       "        text-align: right;\n",
       "    }\n",
       "</style>\n",
       "<table border=\"1\" class=\"dataframe\">\n",
       "  <thead>\n",
       "    <tr style=\"text-align: right;\">\n",
       "      <th></th>\n",
       "      <th>prices</th>\n",
       "    </tr>\n",
       "  </thead>\n",
       "  <tbody>\n",
       "    <tr>\n",
       "      <th>0</th>\n",
       "      <td>[1599591889351, 9978.866934296146]</td>\n",
       "    </tr>\n",
       "    <tr>\n",
       "      <th>1</th>\n",
       "      <td>[1599595752369, 10035.487961581819]</td>\n",
       "    </tr>\n",
       "    <tr>\n",
       "      <th>2</th>\n",
       "      <td>[1599599220045, 10004.316333886345]</td>\n",
       "    </tr>\n",
       "    <tr>\n",
       "      <th>3</th>\n",
       "      <td>[1599602533874, 10035.279584199028]</td>\n",
       "    </tr>\n",
       "    <tr>\n",
       "      <th>4</th>\n",
       "      <td>[1599606258405, 10113.466232225257]</td>\n",
       "    </tr>\n",
       "    <tr>\n",
       "      <th>...</th>\n",
       "      <td>...</td>\n",
       "    </tr>\n",
       "    <tr>\n",
       "      <th>716</th>\n",
       "      <td>[1602169732776, 10914.223466384938]</td>\n",
       "    </tr>\n",
       "    <tr>\n",
       "      <th>717</th>\n",
       "      <td>[1602173379632, 10905.082525549686]</td>\n",
       "    </tr>\n",
       "    <tr>\n",
       "      <th>718</th>\n",
       "      <td>[1602176521391, 10923.247265075319]</td>\n",
       "    </tr>\n",
       "    <tr>\n",
       "      <th>719</th>\n",
       "      <td>[1602180283163, 10876.165447382018]</td>\n",
       "    </tr>\n",
       "    <tr>\n",
       "      <th>720</th>\n",
       "      <td>[1602183200000, 10877.60514276677]</td>\n",
       "    </tr>\n",
       "  </tbody>\n",
       "</table>\n",
       "<p>721 rows × 1 columns</p>\n",
       "</div>"
      ],
      "text/plain": [
       "                                  prices\n",
       "0     [1599591889351, 9978.866934296146]\n",
       "1    [1599595752369, 10035.487961581819]\n",
       "2    [1599599220045, 10004.316333886345]\n",
       "3    [1599602533874, 10035.279584199028]\n",
       "4    [1599606258405, 10113.466232225257]\n",
       "..                                   ...\n",
       "716  [1602169732776, 10914.223466384938]\n",
       "717  [1602173379632, 10905.082525549686]\n",
       "718  [1602176521391, 10923.247265075319]\n",
       "719  [1602180283163, 10876.165447382018]\n",
       "720   [1602183200000, 10877.60514276677]\n",
       "\n",
       "[721 rows x 1 columns]"
      ]
     },
     "execution_count": 61,
     "metadata": {},
     "output_type": "execute_result"
    }
   ],
   "source": [
    "bitcoin1 = pd.DataFrame(bitcoin['prices'])\n",
    "bitcoin1"
   ]
  },
  {
   "cell_type": "code",
   "execution_count": 76,
   "metadata": {},
   "outputs": [
    {
     "data": {
      "text/html": [
       "<div>\n",
       "<style scoped>\n",
       "    .dataframe tbody tr th:only-of-type {\n",
       "        vertical-align: middle;\n",
       "    }\n",
       "\n",
       "    .dataframe tbody tr th {\n",
       "        vertical-align: top;\n",
       "    }\n",
       "\n",
       "    .dataframe thead th {\n",
       "        text-align: right;\n",
       "    }\n",
       "</style>\n",
       "<table border=\"1\" class=\"dataframe\">\n",
       "  <thead>\n",
       "    <tr style=\"text-align: right;\">\n",
       "      <th></th>\n",
       "      <th>date</th>\n",
       "      <th>prices</th>\n",
       "    </tr>\n",
       "  </thead>\n",
       "  <tbody>\n",
       "    <tr>\n",
       "      <th>0</th>\n",
       "      <td>2020-09-08 19:04:49.351</td>\n",
       "      <td>9978.866934</td>\n",
       "    </tr>\n",
       "    <tr>\n",
       "      <th>1</th>\n",
       "      <td>2020-09-08 20:09:12.369</td>\n",
       "      <td>10035.487962</td>\n",
       "    </tr>\n",
       "    <tr>\n",
       "      <th>2</th>\n",
       "      <td>2020-09-08 21:07:00.045</td>\n",
       "      <td>10004.316334</td>\n",
       "    </tr>\n",
       "    <tr>\n",
       "      <th>3</th>\n",
       "      <td>2020-09-08 22:02:13.874</td>\n",
       "      <td>10035.279584</td>\n",
       "    </tr>\n",
       "    <tr>\n",
       "      <th>4</th>\n",
       "      <td>2020-09-08 23:04:18.405</td>\n",
       "      <td>10113.466232</td>\n",
       "    </tr>\n",
       "    <tr>\n",
       "      <th>...</th>\n",
       "      <td>...</td>\n",
       "      <td>...</td>\n",
       "    </tr>\n",
       "    <tr>\n",
       "      <th>716</th>\n",
       "      <td>2020-10-08 15:08:52.776</td>\n",
       "      <td>10914.223466</td>\n",
       "    </tr>\n",
       "    <tr>\n",
       "      <th>717</th>\n",
       "      <td>2020-10-08 16:09:39.632</td>\n",
       "      <td>10905.082526</td>\n",
       "    </tr>\n",
       "    <tr>\n",
       "      <th>718</th>\n",
       "      <td>2020-10-08 17:02:01.391</td>\n",
       "      <td>10923.247265</td>\n",
       "    </tr>\n",
       "    <tr>\n",
       "      <th>719</th>\n",
       "      <td>2020-10-08 18:04:43.163</td>\n",
       "      <td>10876.165447</td>\n",
       "    </tr>\n",
       "    <tr>\n",
       "      <th>720</th>\n",
       "      <td>2020-10-08 18:53:20.000</td>\n",
       "      <td>10877.605143</td>\n",
       "    </tr>\n",
       "  </tbody>\n",
       "</table>\n",
       "<p>721 rows × 2 columns</p>\n",
       "</div>"
      ],
      "text/plain": [
       "                       date        prices\n",
       "0   2020-09-08 19:04:49.351   9978.866934\n",
       "1   2020-09-08 20:09:12.369  10035.487962\n",
       "2   2020-09-08 21:07:00.045  10004.316334\n",
       "3   2020-09-08 22:02:13.874  10035.279584\n",
       "4   2020-09-08 23:04:18.405  10113.466232\n",
       "..                      ...           ...\n",
       "716 2020-10-08 15:08:52.776  10914.223466\n",
       "717 2020-10-08 16:09:39.632  10905.082526\n",
       "718 2020-10-08 17:02:01.391  10923.247265\n",
       "719 2020-10-08 18:04:43.163  10876.165447\n",
       "720 2020-10-08 18:53:20.000  10877.605143\n",
       "\n",
       "[721 rows x 2 columns]"
      ]
     },
     "execution_count": 76,
     "metadata": {},
     "output_type": "execute_result"
    }
   ],
   "source": [
    "bt = pd.DataFrame(bitcoin1['prices'].to_list(), columns=['date', 'prices'])\n",
    "bt['date'] = pd.to_datetime(bt['date'], unit='ms')\n",
    "bt"
   ]
  },
  {
   "cell_type": "code",
   "execution_count": 77,
   "metadata": {},
   "outputs": [
    {
     "data": {
      "text/plain": [
       "<AxesSubplot:xlabel='date'>"
      ]
     },
     "execution_count": 77,
     "metadata": {},
     "output_type": "execute_result"
    },
    {
     "data": {
      "image/png": "[encoded data removed]",
      "text/plain": [
       "<Figure size 432x288 with 1 Axes>"
      ]
     },
     "metadata": {
      "needs_background": "light"
     },
     "output_type": "display_data"
    }
   ],
   "source": [
    "bt.plot(x=\"date\",y=\"prices\")"
   ]
  },
  {
   "cell_type": "markdown",
   "metadata": {},
   "source": [
    "### Challenge 2: \n",
    "\n",
    "Get the Litecoin market value vs USD for last 30 days. For your results, you would like to deliver them both as a DataFrame and then create an appropriate plot.\n"
   ]
  },
  {
   "cell_type": "code",
   "execution_count": 64,
   "metadata": {},
   "outputs": [
    {
     "name": "stdout",
     "output_type": "stream",
     "text": [
      "dict_keys(['prices', 'market_caps', 'total_volumes'])\n"
     ]
    }
   ],
   "source": [
    "# Your code here:\n",
    "base = 'https://api.coingecko.com/api/v3/'\n",
    "url = base + 'coins/litecoin/market_chart'\n",
    "param_dict = {'id':'litecoin', 'vs_currency':'usd', 'days':30}\n",
    "\n",
    "response = requests.get(url, params=param_dict)\n",
    "results = response.json()\n",
    "\n",
    "print(results.keys())\n",
    "\n",
    "# now create a dataframe and a plot!"
   ]
  },
  {
   "cell_type": "code",
   "execution_count": 65,
   "metadata": {},
   "outputs": [
    {
     "data": {
      "text/html": [
       "<div>\n",
       "<style scoped>\n",
       "    .dataframe tbody tr th:only-of-type {\n",
       "        vertical-align: middle;\n",
       "    }\n",
       "\n",
       "    .dataframe tbody tr th {\n",
       "        vertical-align: top;\n",
       "    }\n",
       "\n",
       "    .dataframe thead th {\n",
       "        text-align: right;\n",
       "    }\n",
       "</style>\n",
       "<table border=\"1\" class=\"dataframe\">\n",
       "  <thead>\n",
       "    <tr style=\"text-align: right;\">\n",
       "      <th></th>\n",
       "      <th>prices</th>\n",
       "      <th>market_caps</th>\n",
       "      <th>total_volumes</th>\n",
       "    </tr>\n",
       "  </thead>\n",
       "  <tbody>\n",
       "    <tr>\n",
       "      <th>0</th>\n",
       "      <td>[1599592072976, 46.69761238533589]</td>\n",
       "      <td>[1599592072976, 3061215400.7889953]</td>\n",
       "      <td>[1599592072976, 2017775609.9609947]</td>\n",
       "    </tr>\n",
       "    <tr>\n",
       "      <th>1</th>\n",
       "      <td>[1599595627918, 46.98286944578867]</td>\n",
       "      <td>[1599595627918, 3062937533.5426764]</td>\n",
       "      <td>[1599595627918, 2022375853.7592027]</td>\n",
       "    </tr>\n",
       "    <tr>\n",
       "      <th>2</th>\n",
       "      <td>[1599599240650, 46.96289461390594]</td>\n",
       "      <td>[1599599240650, 3076412982.053287]</td>\n",
       "      <td>[1599599240650, 1997614402.690188]</td>\n",
       "    </tr>\n",
       "    <tr>\n",
       "      <th>3</th>\n",
       "      <td>[1599602568701, 47.4466933355614]</td>\n",
       "      <td>[1599602568701, 3080049833.4865932]</td>\n",
       "      <td>[1599602568701, 2052506479.520958]</td>\n",
       "    </tr>\n",
       "    <tr>\n",
       "      <th>4</th>\n",
       "      <td>[1599606136073, 47.38266889766509]</td>\n",
       "      <td>[1599606136073, 3076159900.6107163]</td>\n",
       "      <td>[1599606136073, 2080629916.532112]</td>\n",
       "    </tr>\n",
       "    <tr>\n",
       "      <th>...</th>\n",
       "      <td>...</td>\n",
       "      <td>...</td>\n",
       "      <td>...</td>\n",
       "    </tr>\n",
       "    <tr>\n",
       "      <th>716</th>\n",
       "      <td>[1602169771326, 47.305840847732355]</td>\n",
       "      <td>[1602169771326, 3099940062.3087907]</td>\n",
       "      <td>[1602169771326, 2300168693.670904]</td>\n",
       "    </tr>\n",
       "    <tr>\n",
       "      <th>717</th>\n",
       "      <td>[1602172918128, 47.05597116270212]</td>\n",
       "      <td>[1602172918128, 3087964717.0738215]</td>\n",
       "      <td>[1602172918128, 2253601245.1822667]</td>\n",
       "    </tr>\n",
       "    <tr>\n",
       "      <th>718</th>\n",
       "      <td>[1602176669821, 47.27460072258047]</td>\n",
       "      <td>[1602176669821, 3102331395.2681503]</td>\n",
       "      <td>[1602176669821, 2194840146.9523015]</td>\n",
       "    </tr>\n",
       "    <tr>\n",
       "      <th>719</th>\n",
       "      <td>[1602180144983, 47.2038192918521]</td>\n",
       "      <td>[1602180144983, 3097701801.356203]</td>\n",
       "      <td>[1602180144983, 2150300173.2849703]</td>\n",
       "    </tr>\n",
       "    <tr>\n",
       "      <th>720</th>\n",
       "      <td>[1602183611000, 47.07319270707823]</td>\n",
       "      <td>[1602183611000, 3087536797.333597]</td>\n",
       "      <td>[1602183611000, 2126919793.7415948]</td>\n",
       "    </tr>\n",
       "  </tbody>\n",
       "</table>\n",
       "<p>721 rows × 3 columns</p>\n",
       "</div>"
      ],
      "text/plain": [
       "                                  prices                          market_caps  \\\n",
       "0     [1599592072976, 46.69761238533589]  [1599592072976, 3061215400.7889953]   \n",
       "1     [1599595627918, 46.98286944578867]  [1599595627918, 3062937533.5426764]   \n",
       "2     [1599599240650, 46.96289461390594]   [1599599240650, 3076412982.053287]   \n",
       "3      [1599602568701, 47.4466933355614]  [1599602568701, 3080049833.4865932]   \n",
       "4     [1599606136073, 47.38266889766509]  [1599606136073, 3076159900.6107163]   \n",
       "..                                   ...                                  ...   \n",
       "716  [1602169771326, 47.305840847732355]  [1602169771326, 3099940062.3087907]   \n",
       "717   [1602172918128, 47.05597116270212]  [1602172918128, 3087964717.0738215]   \n",
       "718   [1602176669821, 47.27460072258047]  [1602176669821, 3102331395.2681503]   \n",
       "719    [1602180144983, 47.2038192918521]   [1602180144983, 3097701801.356203]   \n",
       "720   [1602183611000, 47.07319270707823]   [1602183611000, 3087536797.333597]   \n",
       "\n",
       "                           total_volumes  \n",
       "0    [1599592072976, 2017775609.9609947]  \n",
       "1    [1599595627918, 2022375853.7592027]  \n",
       "2     [1599599240650, 1997614402.690188]  \n",
       "3     [1599602568701, 2052506479.520958]  \n",
       "4     [1599606136073, 2080629916.532112]  \n",
       "..                                   ...  \n",
       "716   [1602169771326, 2300168693.670904]  \n",
       "717  [1602172918128, 2253601245.1822667]  \n",
       "718  [1602176669821, 2194840146.9523015]  \n",
       "719  [1602180144983, 2150300173.2849703]  \n",
       "720  [1602183611000, 2126919793.7415948]  \n",
       "\n",
       "[721 rows x 3 columns]"
      ]
     },
     "execution_count": 65,
     "metadata": {},
     "output_type": "execute_result"
    }
   ],
   "source": [
    "litecoin = pd.DataFrame(results)\n",
    "litecoin"
   ]
  },
  {
   "cell_type": "code",
   "execution_count": 68,
   "metadata": {},
   "outputs": [
    {
     "data": {
      "text/html": [
       "<div>\n",
       "<style scoped>\n",
       "    .dataframe tbody tr th:only-of-type {\n",
       "        vertical-align: middle;\n",
       "    }\n",
       "\n",
       "    .dataframe tbody tr th {\n",
       "        vertical-align: top;\n",
       "    }\n",
       "\n",
       "    .dataframe thead th {\n",
       "        text-align: right;\n",
       "    }\n",
       "</style>\n",
       "<table border=\"1\" class=\"dataframe\">\n",
       "  <thead>\n",
       "    <tr style=\"text-align: right;\">\n",
       "      <th></th>\n",
       "      <th>market_caps</th>\n",
       "    </tr>\n",
       "  </thead>\n",
       "  <tbody>\n",
       "    <tr>\n",
       "      <th>0</th>\n",
       "      <td>[1599592072976, 3061215400.7889953]</td>\n",
       "    </tr>\n",
       "    <tr>\n",
       "      <th>1</th>\n",
       "      <td>[1599595627918, 3062937533.5426764]</td>\n",
       "    </tr>\n",
       "    <tr>\n",
       "      <th>2</th>\n",
       "      <td>[1599599240650, 3076412982.053287]</td>\n",
       "    </tr>\n",
       "    <tr>\n",
       "      <th>3</th>\n",
       "      <td>[1599602568701, 3080049833.4865932]</td>\n",
       "    </tr>\n",
       "    <tr>\n",
       "      <th>4</th>\n",
       "      <td>[1599606136073, 3076159900.6107163]</td>\n",
       "    </tr>\n",
       "    <tr>\n",
       "      <th>...</th>\n",
       "      <td>...</td>\n",
       "    </tr>\n",
       "    <tr>\n",
       "      <th>716</th>\n",
       "      <td>[1602169771326, 3099940062.3087907]</td>\n",
       "    </tr>\n",
       "    <tr>\n",
       "      <th>717</th>\n",
       "      <td>[1602172918128, 3087964717.0738215]</td>\n",
       "    </tr>\n",
       "    <tr>\n",
       "      <th>718</th>\n",
       "      <td>[1602176669821, 3102331395.2681503]</td>\n",
       "    </tr>\n",
       "    <tr>\n",
       "      <th>719</th>\n",
       "      <td>[1602180144983, 3097701801.356203]</td>\n",
       "    </tr>\n",
       "    <tr>\n",
       "      <th>720</th>\n",
       "      <td>[1602183611000, 3087536797.333597]</td>\n",
       "    </tr>\n",
       "  </tbody>\n",
       "</table>\n",
       "<p>721 rows × 1 columns</p>\n",
       "</div>"
      ],
      "text/plain": [
       "                             market_caps\n",
       "0    [1599592072976, 3061215400.7889953]\n",
       "1    [1599595627918, 3062937533.5426764]\n",
       "2     [1599599240650, 3076412982.053287]\n",
       "3    [1599602568701, 3080049833.4865932]\n",
       "4    [1599606136073, 3076159900.6107163]\n",
       "..                                   ...\n",
       "716  [1602169771326, 3099940062.3087907]\n",
       "717  [1602172918128, 3087964717.0738215]\n",
       "718  [1602176669821, 3102331395.2681503]\n",
       "719   [1602180144983, 3097701801.356203]\n",
       "720   [1602183611000, 3087536797.333597]\n",
       "\n",
       "[721 rows x 1 columns]"
      ]
     },
     "execution_count": 68,
     "metadata": {},
     "output_type": "execute_result"
    }
   ],
   "source": [
    "litecoin1 = pd.DataFrame(litecoin['market_caps'])\n",
    "litecoin1"
   ]
  },
  {
   "cell_type": "code",
   "execution_count": 69,
   "metadata": {},
   "outputs": [
    {
     "data": {
      "text/html": [
       "<div>\n",
       "<style scoped>\n",
       "    .dataframe tbody tr th:only-of-type {\n",
       "        vertical-align: middle;\n",
       "    }\n",
       "\n",
       "    .dataframe tbody tr th {\n",
       "        vertical-align: top;\n",
       "    }\n",
       "\n",
       "    .dataframe thead th {\n",
       "        text-align: right;\n",
       "    }\n",
       "</style>\n",
       "<table border=\"1\" class=\"dataframe\">\n",
       "  <thead>\n",
       "    <tr style=\"text-align: right;\">\n",
       "      <th></th>\n",
       "      <th>date</th>\n",
       "      <th>market_caps</th>\n",
       "    </tr>\n",
       "  </thead>\n",
       "  <tbody>\n",
       "    <tr>\n",
       "      <th>0</th>\n",
       "      <td>2020-09-08 19:07:52.976</td>\n",
       "      <td>3.061215e+09</td>\n",
       "    </tr>\n",
       "    <tr>\n",
       "      <th>1</th>\n",
       "      <td>2020-09-08 20:07:07.918</td>\n",
       "      <td>3.062938e+09</td>\n",
       "    </tr>\n",
       "    <tr>\n",
       "      <th>2</th>\n",
       "      <td>2020-09-08 21:07:20.650</td>\n",
       "      <td>3.076413e+09</td>\n",
       "    </tr>\n",
       "    <tr>\n",
       "      <th>3</th>\n",
       "      <td>2020-09-08 22:02:48.701</td>\n",
       "      <td>3.080050e+09</td>\n",
       "    </tr>\n",
       "    <tr>\n",
       "      <th>4</th>\n",
       "      <td>2020-09-08 23:02:16.073</td>\n",
       "      <td>3.076160e+09</td>\n",
       "    </tr>\n",
       "    <tr>\n",
       "      <th>...</th>\n",
       "      <td>...</td>\n",
       "      <td>...</td>\n",
       "    </tr>\n",
       "    <tr>\n",
       "      <th>716</th>\n",
       "      <td>2020-10-08 15:09:31.326</td>\n",
       "      <td>3.099940e+09</td>\n",
       "    </tr>\n",
       "    <tr>\n",
       "      <th>717</th>\n",
       "      <td>2020-10-08 16:01:58.128</td>\n",
       "      <td>3.087965e+09</td>\n",
       "    </tr>\n",
       "    <tr>\n",
       "      <th>718</th>\n",
       "      <td>2020-10-08 17:04:29.821</td>\n",
       "      <td>3.102331e+09</td>\n",
       "    </tr>\n",
       "    <tr>\n",
       "      <th>719</th>\n",
       "      <td>2020-10-08 18:02:24.983</td>\n",
       "      <td>3.097702e+09</td>\n",
       "    </tr>\n",
       "    <tr>\n",
       "      <th>720</th>\n",
       "      <td>2020-10-08 19:00:11.000</td>\n",
       "      <td>3.087537e+09</td>\n",
       "    </tr>\n",
       "  </tbody>\n",
       "</table>\n",
       "<p>721 rows × 2 columns</p>\n",
       "</div>"
      ],
      "text/plain": [
       "                       date   market_caps\n",
       "0   2020-09-08 19:07:52.976  3.061215e+09\n",
       "1   2020-09-08 20:07:07.918  3.062938e+09\n",
       "2   2020-09-08 21:07:20.650  3.076413e+09\n",
       "3   2020-09-08 22:02:48.701  3.080050e+09\n",
       "4   2020-09-08 23:02:16.073  3.076160e+09\n",
       "..                      ...           ...\n",
       "716 2020-10-08 15:09:31.326  3.099940e+09\n",
       "717 2020-10-08 16:01:58.128  3.087965e+09\n",
       "718 2020-10-08 17:04:29.821  3.102331e+09\n",
       "719 2020-10-08 18:02:24.983  3.097702e+09\n",
       "720 2020-10-08 19:00:11.000  3.087537e+09\n",
       "\n",
       "[721 rows x 2 columns]"
      ]
     },
     "execution_count": 69,
     "metadata": {},
     "output_type": "execute_result"
    }
   ],
   "source": [
    "bt = pd.DataFrame(litecoin1['market_caps'].to_list(), columns=['date', 'market_caps'])\n",
    "bt['date'] = pd.to_datetime(bt['date'], unit='ms')\n",
    "bt"
   ]
  },
  {
   "cell_type": "code",
   "execution_count": 78,
   "metadata": {},
   "outputs": [
    {
     "data": {
      "text/plain": [
       "<AxesSubplot:xlabel='date'>"
      ]
     },
     "execution_count": 78,
     "metadata": {},
     "output_type": "execute_result"
    },
    {
     "data": {
      "image/png": "[encoded data removed]",
      "text/plain": [
       "<Figure size 432x288 with 1 Axes>"
      ]
     },
     "metadata": {
      "needs_background": "light"
     },
     "output_type": "display_data"
    }
   ],
   "source": [
    "bt.plot(x=\"date\",y=\"prices\")"
   ]
  },
  {
   "cell_type": "markdown",
   "metadata": {},
   "source": [
    "### Challenge 3: \n",
    "\n",
    "Get historical data for Bitcoin on January 1st, 2020. As a result, you would like to have a Dataframe which contains all of the currencies against which the price is expressed in one column, and the current price (at that date) in a second column.\n",
    "\n",
    "Hint: you might receive an error message saying \"If using all scalar values, you must pass an index\". Google it! :)\n"
   ]
  },
  {
   "cell_type": "code",
   "execution_count": 81,
   "metadata": {},
   "outputs": [],
   "source": [
    "# Your code here:\n"
   ]
  },
  {
   "cell_type": "markdown",
   "metadata": {},
   "source": [
    "### Challenge 3: \n",
    "\n",
    "Get the ids of all of the coins listed on Coingecko. Extract the bottom ten IDs in a Dataframe."
   ]
  },
  {
   "cell_type": "code",
   "execution_count": 70,
   "metadata": {},
   "outputs": [],
   "source": [
    "# Your code here:\n",
    "base = 'https://api.coingecko.com/api/v3/'\n",
    "url = base + 'coins/{id}'\n",
    "\n",
    "response = requests.get(url)\n",
    "results = response.json()"
   ]
  },
  {
   "cell_type": "markdown",
   "metadata": {},
   "source": [
    "### Bonus Challenge: \n",
    "\n",
    "Write a loop that goes through the 10 coins you retrieved in challenge 3, and for each of them collects the market values against USD for the last 30 days. Then create a dataframe which has three columns: 'time', 'price' and 'coin' and combines the data of all these ten coins.\n",
    "\n",
    "If you're ambitious: create a plot with 10 subplots for all of the series!"
   ]
  },
  {
   "cell_type": "code",
   "execution_count": 83,
   "metadata": {},
   "outputs": [],
   "source": [
    "# Your code here:\n"
   ]
  }
 ],
 "metadata": {
  "kernelspec": {
   "display_name": "Python 3",
   "language": "python",
   "name": "python3"
  },
  "language_info": {
   "codemirror_mode": {
    "name": "ipython",
    "version": 3
   },
   "file_extension": ".py",
   "mimetype": "text/x-python",
   "name": "python",
   "nbconvert_exporter": "python",
   "pygments_lexer": "ipython3",
   "version": "3.8.5"
  }
 },
 "nbformat": 4,
 "nbformat_minor": 4
}
