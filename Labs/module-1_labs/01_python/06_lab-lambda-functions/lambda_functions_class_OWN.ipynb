{
 "cells": [
  {
   "cell_type": "markdown",
   "metadata": {},
   "source": [
    "## Lambda Functions"
   ]
  },
  {
   "cell_type": "markdown",
   "metadata": {},
   "source": [
    "*Lambda functions are a short way of writing functions that consist of a single expression*"
   ]
  },
  {
   "cell_type": "markdown",
   "metadata": {},
   "source": [
    "Declare a lambda, list the inputs of the lambda followed by a colon and then the expression"
   ]
  },
  {
   "cell_type": "code",
   "execution_count": null,
   "metadata": {},
   "outputs": [],
   "source": [
    "# lambda in general\n",
    "variable_name = lambda x: x oder (lambda x: x)(x)\n",
    "\n",
    "# Declare a lambda, list the inputs of the lambda followed by a colon and then the expression\n"
   ]
  },
  {
   "cell_type": "code",
   "execution_count": null,
   "metadata": {},
   "outputs": [],
   "source": [
    "# usual:\n",
    "def double_function(x):\n",
    "    return x*2"
   ]
  },
  {
   "cell_type": "code",
   "execution_count": null,
   "metadata": {},
   "outputs": [],
   "source": [
    "double_function(10)"
   ]
  },
  {
   "cell_type": "code",
   "execution_count": null,
   "metadata": {},
   "outputs": [],
   "source": [
    "# in lambda\n",
    "double_lambda = lambda x: 2*x"
   ]
  },
  {
   "cell_type": "code",
   "execution_count": null,
   "metadata": {},
   "outputs": [],
   "source": [
    "double_lambda(5)"
   ]
  },
  {
   "cell_type": "code",
   "execution_count": null,
   "metadata": {},
   "outputs": [],
   "source": [
    "(lambda x: x*2)(20)"
   ]
  },
  {
   "cell_type": "code",
   "execution_count": null,
   "metadata": {},
   "outputs": [],
   "source": [
    "# lambda expression that adds 5 to the number\n",
    "plus_five = lambda x: 5+x \n",
    "#or \n",
    "(lambda x: x+5)(x)\n",
    "\n",
    "plus_five(2)\n",
    "#or \n",
    "(lambda x: x+5)(2)"
   ]
  },
  {
   "cell_type": "code",
   "execution_count": null,
   "metadata": {},
   "outputs": [],
   "source": [
    "(lambda x: x+5)(10)"
   ]
  },
  {
   "cell_type": "markdown",
   "metadata": {},
   "source": [
    "### Lambda Functions with several inputs"
   ]
  },
  {
   "cell_type": "markdown",
   "metadata": {},
   "source": [
    "Write a function that adds up two inputs."
   ]
  },
  {
   "cell_type": "code",
   "execution_count": null,
   "metadata": {},
   "outputs": [],
   "source": [
    "#Lambda Functions with several inputs\n",
    "#Lambda expression also works with more than one argument\n",
    "#for example adding two elements\n",
    "\n",
    "def add_function(x, y):\n",
    "    return x+y\n",
    "# usual expression\n",
    "add_function(5, 2)\n",
    "#--> funktioniert auch, wenn ich nur einen Input Wert gebe, sofern ich in der Definition einen Default Wert für die andere \n",
    "#Variable definiert habe\n",
    "\n",
    "# now with Lambda:\n",
    "\n",
    "add_lambda = lambda x, y: x + y\n",
    "#or\n",
    "(lambda x: x)(x+y)\n",
    "\n",
    "\n",
    "add_lambda(5, 2)\n",
    "# or\n",
    "(lambda x,y: x+y)(5,2)"
   ]
  },
  {
   "cell_type": "markdown",
   "metadata": {},
   "source": [
    "Write a lambda function that returns the max of two numbers!"
   ]
  },
  {
   "cell_type": "code",
   "execution_count": 3,
   "metadata": {},
   "outputs": [],
   "source": [
    "# Question: Return the max of two numbers:\n",
    "# like for list comprehension: output comes first in expression, afterwords the condition\n",
    "# lambda functions are there to do one operation in one code of line\n",
    "# can be applied to any DataStrctures\n",
    "\n",
    "return_max = lambda x, y: y if x<y else x\n",
    "return_max = (5,7)\n",
    "# also other way around possible\n"
   ]
  },
  {
   "cell_type": "code",
   "execution_count": null,
   "metadata": {},
   "outputs": [],
   "source": [
    "(lambda x, y, z: x + y + z)(1, 2, 3)"
   ]
  },
  {
   "cell_type": "markdown",
   "metadata": {},
   "source": [
    "### Lambda Functions with If Statements"
   ]
  },
  {
   "cell_type": "markdown",
   "metadata": {},
   "source": [
    "Write a function which gives out the number if it is even, and 0 otherwise."
   ]
  },
  {
   "cell_type": "code",
   "execution_count": 6,
   "metadata": {},
   "outputs": [
    {
     "data": {
      "text/plain": [
       "4"
      ]
     },
     "execution_count": 6,
     "metadata": {},
     "output_type": "execute_result"
    }
   ],
   "source": [
    "# If Statements\n",
    "# Write a function which outputs the number if it is even and 0 otherwise\n",
    "def even_zero_function(x):\n",
    "    if x%2==0:\n",
    "        return x\n",
    "    else:\n",
    "        return 0\n",
    "\n",
    "even_zero_function(4)\n",
    "\n",
    "# when using print instead of return in function, I can use function golabally and it works ( x= even_zero_function ()) \n",
    "# but can not use print (x) outside!\n",
    "# print then does return none as function returns nothing when using print inside!\n",
    "# usually no print inside a function\n"
   ]
  },
  {
   "cell_type": "code",
   "execution_count": 7,
   "metadata": {},
   "outputs": [
    {
     "name": "stdout",
     "output_type": "stream",
     "text": [
      "4\n",
      "None\n"
     ]
    }
   ],
   "source": [
    "def even_zero_function_test(x):\n",
    "    if x%2==0:\n",
    "        print(x)\n",
    "    else:\n",
    "        print(0)\n",
    "\n",
    "x = even_zero_function_test(4)\n",
    "print(x)"
   ]
  },
  {
   "cell_type": "code",
   "execution_count": 5,
   "metadata": {},
   "outputs": [
    {
     "data": {
      "text/plain": [
       "4"
      ]
     },
     "execution_count": 5,
     "metadata": {},
     "output_type": "execute_result"
    }
   ],
   "source": [
    "#with lambda:\n",
    "even_zero_function = lambda x: x if x%2==0 else 0 #or (lambda x: x if x%2==0 elso 0)(x)   \n",
    "even_zero_function (4)"
   ]
  },
  {
   "cell_type": "code",
   "execution_count": 8,
   "metadata": {},
   "outputs": [
    {
     "data": {
      "text/plain": [
       "8"
      ]
     },
     "execution_count": 8,
     "metadata": {},
     "output_type": "execute_result"
    }
   ],
   "source": [
    "(lambda x: x if x%2==0 else 0)(8)"
   ]
  },
  {
   "cell_type": "markdown",
   "metadata": {},
   "source": [
    "### Lambda Functions and List Comprehensions"
   ]
  },
  {
   "cell_type": "markdown",
   "metadata": {},
   "source": [
    "Print out a list which contains the even numbers, and replaces the odd numbers by zero."
   ]
  },
  {
   "cell_type": "code",
   "execution_count": null,
   "metadata": {},
   "outputs": [],
   "source": [
    "#lambda in list comprehensions\n",
    "#Return give every item in mylist divided by 2\n",
    "mylist = [1,2,3,4,5,6,7,8,9,10]\n",
    "#list comprehension\n",
    "[x/2 for x in mylist]\n",
    "\n",
    "new_list =[lambda x: x/2 for x in mylist] or [(lambda x: x/2)(x) for x in mylist]\n",
    "#or\n",
    "lambda = lambda x: x/2\n",
    "new_list = [lambda (x) for x in mylist]"
   ]
  },
  {
   "cell_type": "code",
   "execution_count": null,
   "metadata": {},
   "outputs": [],
   "source": [
    "#print out a list based on mylist and replace the odd numbers by zero\n",
    "[(lambda x: x if x%2==0 else 0)(x) for x in mylist] \n",
    "#or\n",
    "odd_list = [lambda x: x if x%2==0 else 0 for x in mylist]"
   ]
  },
  {
   "cell_type": "markdown",
   "metadata": {},
   "source": [
    "### Lambdas as Arguments in Functions"
   ]
  },
  {
   "cell_type": "markdown",
   "metadata": {},
   "source": [
    "Sort the following list by the letter in the person's name!"
   ]
  },
  {
   "cell_type": "code",
   "execution_count": null,
   "metadata": {},
   "outputs": [],
   "source": [
    "# Lambda as Arguments in Functions\n",
    "# often used in combination with sort function which uses lambda expression as an argument (as a key)\n",
    "\n",
    "misters = [\"MisterE\", \"MisterB\", \"MisterD\", \"MisterF\"]\n",
    "sorted(misters, reverse=True)\n",
    "# last letter of each string with lambda\n",
    "last_lambda = lambda x: x[-1]\n",
    "# Now using sorting function with lambda as the key argument\n",
    "sorted(misters, key=last_lambda)\n",
    "#power of lambda, by complex sorting uses lambda as a key for example"
   ]
  },
  {
   "cell_type": "markdown",
   "metadata": {},
   "source": [
    "Sort the following list by the second letter in the string."
   ]
  },
  {
   "cell_type": "code",
   "execution_count": null,
   "metadata": {},
   "outputs": [],
   "source": [
    "#anothing exapmle for using lambda to sort sht\n",
    "\n",
    "List_tuples = [(\"eggs\", 1),(\"apples\", 2),(\"carrots\", 1),(\"beetroot\", 5)]\n",
    "#lambda fo second letter of first elemnt in tuple\n",
    "second_letter = lambda x: x[0][1]\n",
    "second_letter(('hello', 1))\n",
    "#lambda second letter of each string for sorting\n",
    "sorted(list_tuples, key=second_letter)"
   ]
  },
  {
   "cell_type": "markdown",
   "metadata": {},
   "source": [
    "Sort the following list of dictionaries by the key year!"
   ]
  },
  {
   "cell_type": "code",
   "execution_count": 21,
   "metadata": {},
   "outputs": [
    {
     "data": {
      "text/plain": [
       "[{'model': 'Mercedes', 'year': 1992},\n",
       " {'model': 'Audi', 'year': 1995},\n",
       " {'model': 'Volkswagen', 'year': 2005}]"
      ]
     },
     "execution_count": 21,
     "metadata": {},
     "output_type": "execute_result"
    }
   ],
   "source": [
    "cars = [{'model': 'Audi', 'year': 1995}, {'model': 'Mercedes', 'year': 1992}, {'model': 'Volkswagen', 'year': 2005}]\n",
    "sorted(cars, key = lambda i: i['year']) "
   ]
  },
  {
   "cell_type": "markdown",
   "metadata": {},
   "source": [
    "### The zip Function\n",
    "\n",
    "The zip() function takes one or more iterables (such as lists, sets, tuples) and combines the corresponding items in the sequences into a tuple, which allows for iteration along two series."
   ]
  },
  {
   "cell_type": "code",
   "execution_count": 4,
   "metadata": {
    "scrolled": false
   },
   "outputs": [
    {
     "data": {
      "text/plain": [
       "[(1, 5), (2, 6), (3, 7), (4, 8)]"
      ]
     },
     "execution_count": 4,
     "metadata": {},
     "output_type": "execute_result"
    }
   ],
   "source": [
    "# Andere beliebte Anwendungsmethode von Lambda: Die Zip Funktion\n",
    "# Zip can be used when having two seperate itterable structures of any kind(lists, strings etc.)\n",
    "# For example one list a [1,2,3] and one b [\"one\", \"two\", \"three\"]\n",
    "# --> zip(a,b)- > zip will alwyas combine elements at same order and creates an object of tuple combinations\n",
    "#works also with a string and then uses the letters\n",
    "# when lists/sets etc., have not same about of elements, zip functions just creates tuple over available pairs and leaves\n",
    "# the rest behind\n",
    "# When same elements in one datastructre, zip will just kick double elements out when creating the new combined tuple\n",
    "\n",
    "# Bsp.\n",
    "list1 = [1,2,3,4]\n",
    "list2 = [5,6,7,8]\n",
    "#zip creates objects, you have to apply list to put objects into a list\n",
    "list(zip(list1,list2))\n",
    "\n",
    "#How to use in combination with lambda?\n",
    "#With zip we can iterate over two lists at the same time"
   ]
  },
  {
   "cell_type": "code",
   "execution_count": 9,
   "metadata": {},
   "outputs": [
    {
     "data": {
      "text/plain": [
       "{(1, 'a'), (2, 'b'), (3, 'c')}"
      ]
     },
     "execution_count": 9,
     "metadata": {},
     "output_type": "execute_result"
    }
   ],
   "source": [
    "set(zip([1, 2, 3], \"abc\"))"
   ]
  },
  {
   "cell_type": "code",
   "execution_count": null,
   "metadata": {},
   "outputs": [],
   "source": [
    "a = set([1, 2, 3])\n",
    "b = [\"cat\", \"cow\", \"dog\"]\n",
    "list(zip(a, b))"
   ]
  },
  {
   "cell_type": "markdown",
   "metadata": {},
   "source": [
    "What happens if the series have different lengths?"
   ]
  },
  {
   "cell_type": "code",
   "execution_count": null,
   "metadata": {},
   "outputs": [],
   "source": [
    "a = set([1, 2, 3, 4, 5, 6])\n",
    "b = [\"cat\", \"cow\", \"dog\"]\n",
    "list(zip(a, b))"
   ]
  },
  {
   "cell_type": "markdown",
   "metadata": {},
   "source": [
    "Write a list comprehension with a lambda function that iterates through both lists and prints out the sum of the respective elements."
   ]
  },
  {
   "cell_type": "code",
   "execution_count": 26,
   "metadata": {},
   "outputs": [
    {
     "data": {
      "text/plain": [
       "[6, 8, 10, 12]"
      ]
     },
     "execution_count": 26,
     "metadata": {},
     "output_type": "execute_result"
    }
   ],
   "source": [
    "# Anwendungsbeispiel:\n",
    "#[a+b for (a,b) in zip(list1,list2)]\n",
    "#with lambda:\n",
    "[(lambda a,b: a+b)(a,b) for (a,b) in zip(liste1,liste2)]\n",
    "\n",
    "# (a,b) nötig weil lambda part ist nur die function, I still have to add variables to apply for\n",
    "# for each tuple in the object, add first and second element\n",
    "# Usecase lambda and list comprehension:\n",
    "# When lambda is supposed to bring two lists together --> Use first zip and lambda afterwards\n",
    "# When two diff. iterables in a lambda and a list comprehension\n",
    "# How to do without a zip?\n",
    "# Doing with a For-loop, but for list comprehension you need to say: \"for x in y\" and we than wouldnt have a single z"
   ]
  },
  {
   "cell_type": "code",
   "execution_count": null,
   "metadata": {},
   "outputs": [],
   "source": [
    "list1 = [21, 35, 72, 11]\n",
    "list2 = [1, 4, 15, 22]\n"
   ]
  },
  {
   "cell_type": "code",
   "execution_count": null,
   "metadata": {},
   "outputs": [],
   "source": [
    "list(zip(list1, list2))"
   ]
  },
  {
   "cell_type": "code",
   "execution_count": null,
   "metadata": {},
   "outputs": [],
   "source": [
    "[a+b for (a, b) in zip(list1, list2)]"
   ]
  },
  {
   "cell_type": "code",
   "execution_count": null,
   "metadata": {},
   "outputs": [],
   "source": [
    "[(lambda a, b: a+b)(a, b) for (a, b) in zip(list1, list2)]"
   ]
  },
  {
   "cell_type": "code",
   "execution_count": null,
   "metadata": {},
   "outputs": [],
   "source": [
    "#Function of student portal\n",
    "#lower is defined as a contant"
   ]
  }
 ],
 "metadata": {
  "kernelspec": {
   "display_name": "Python 3",
   "language": "python",
   "name": "python3"
  },
  "language_info": {
   "codemirror_mode": {
    "name": "ipython",
    "version": 3
   },
   "file_extension": ".py",
   "mimetype": "text/x-python",
   "name": "python",
   "nbconvert_exporter": "python",
   "pygments_lexer": "ipython3",
   "version": "3.8.5"
  }
 },
 "nbformat": 4,
 "nbformat_minor": 2
}
