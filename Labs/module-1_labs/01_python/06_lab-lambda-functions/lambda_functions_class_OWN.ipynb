{
 "cells": [
  {
   "cell_type": "markdown",
   "metadata": {},
   "source": [
    "# Before your start:\n",
    "- Read the README.md file\n",
    "- Comment as much as you can and use the resources in the README.md file\n",
    "- Happy learning!"
   ]
  },
  {
   "cell_type": "markdown",
   "metadata": {},
   "source": [
    "Lambda Functions Class Notes"
   ]
  },
  {
   "cell_type": "code",
   "execution_count": null,
   "metadata": {},
   "outputs": [],
   "source": [
    "####Ab hier class Erläuterungen:####"
   ]
  },
  {
   "cell_type": "code",
   "execution_count": null,
   "metadata": {},
   "outputs": [],
   "source": [
    "# lambda in general\n",
    "variable_name = lambda x: x oder (lambda x: x)(x)\n",
    "\n",
    "# Declare a lambda, list the inputs of the lambda followed by a colon and then the expression\n",
    "\n",
    "# usual:\n",
    "def double_function(x):\n",
    "    return x*2\n",
    "\n",
    "# in lambda\n",
    "double_lambda = lambda x: 2*x\n",
    "\n",
    "# lambda expression that adds 5 to the number\n",
    "plus_five = lambda x: 5+x \n",
    "#or \n",
    "(lambda x: x+5)(x)\n",
    "\n",
    "plus_five(2)\n",
    "#or \n",
    "(lambda x: x+5)(2)"
   ]
  },
  {
   "cell_type": "code",
   "execution_count": null,
   "metadata": {},
   "outputs": [],
   "source": [
    "#Lambda Functions with several inputs\n",
    "#Lambda expression also works with more than one argument\n",
    "#for example adding two elements\n",
    "\n",
    "def add_function(x, y):\n",
    "    return x+y\n",
    "# usual expression\n",
    "add_function(5, 2)\n",
    "#--> funktioniert auch, wenn ich nur einen Input Wert gebe, sofern ich in der Definition einen Default Wert für die andere \n",
    "#Variable definiert habe\n",
    "\n",
    "# now with Lambda\n",
    "\n",
    "add_lambda = lambda x, y: x + y\n",
    "#or\n",
    "(lambda x: x)(x+y)\n",
    "\n",
    "\n",
    "add_lambda(5, 2)\n",
    "# or\n",
    "(lambda x,y: x+y)(5,2)"
   ]
  },
  {
   "cell_type": "code",
   "execution_count": 3,
   "metadata": {},
   "outputs": [],
   "source": [
    "# Question: Return the max of two numbers:\n",
    "# like for list comprehension: output comes first in expression, afterwords the condition\n",
    "# lambda functions are there to do one operation in one code of line\n",
    "# can be applied to any DataStrctures\n",
    "\n",
    "return_max = lambda x, y: y if x<y else x\n",
    "return_max = (5,7)\n",
    "# also other way around possible\n"
   ]
  },
  {
   "cell_type": "code",
   "execution_count": 4,
   "metadata": {},
   "outputs": [
    {
     "ename": "NameError",
     "evalue": "name 'even_zero_function' is not defined",
     "output_type": "error",
     "traceback": [
      "\u001b[1;31m---------------------------------------------------------------------------\u001b[0m",
      "\u001b[1;31mNameError\u001b[0m                                 Traceback (most recent call last)",
      "\u001b[1;32m<ipython-input-4-a968322e9934>\u001b[0m in \u001b[0;36m<module>\u001b[1;34m\u001b[0m\n\u001b[0;32m      6\u001b[0m     \u001b[1;32melse\u001b[0m\u001b[1;33m:\u001b[0m\u001b[1;33m\u001b[0m\u001b[1;33m\u001b[0m\u001b[0m\n\u001b[0;32m      7\u001b[0m         \u001b[1;32mreturn\u001b[0m \u001b[1;36m0\u001b[0m\u001b[1;33m\u001b[0m\u001b[1;33m\u001b[0m\u001b[0m\n\u001b[1;32m----> 8\u001b[1;33m \u001b[0meven_zero_function\u001b[0m\u001b[1;33m(\u001b[0m\u001b[1;36m4\u001b[0m\u001b[1;33m)\u001b[0m\u001b[1;33m\u001b[0m\u001b[1;33m\u001b[0m\u001b[0m\n\u001b[0m\u001b[0;32m      9\u001b[0m \u001b[1;31m# when using print instead of return in function, i can use function golabally and it works ( x= even_zero_function ()) but can not use print (x) outside\u001b[0m\u001b[1;33m\u001b[0m\u001b[1;33m\u001b[0m\u001b[1;33m\u001b[0m\u001b[0m\n\u001b[0;32m     10\u001b[0m \u001b[1;31m# print then does return none as fucntion returns nothing when using print inside\u001b[0m\u001b[1;33m\u001b[0m\u001b[1;33m\u001b[0m\u001b[1;33m\u001b[0m\u001b[0m\n",
      "\u001b[1;31mNameError\u001b[0m: name 'even_zero_function' is not defined"
     ]
    }
   ],
   "source": [
    "# If Statements\n",
    "# Write a function which outputs the number if it is even and 0 otherwise\n",
    "def even_zero_funtion (x):\n",
    "    if x%2==0:\n",
    "        return x\n",
    "    else:\n",
    "        return 0\n",
    "even_zero_function(4) \n",
    "\n",
    "# when using print instead of return in function, I can use function golabally and it works ( x= even_zero_function ()) \n",
    "# but can not use print (x) outside!\n",
    "# print then does return none as function returns nothing when using print inside!\n",
    "# usually no print inside a function\n",
    "# now same with lambda:\n",
    "even_zero_function = lambda x: x if x%2==0 else 0 or (lambda x: x if x%2==0 elso 0)(x)   \n",
    "even_zero:funtion (4)\n",
    "        "
   ]
  },
  {
   "cell_type": "code",
   "execution_count": null,
   "metadata": {},
   "outputs": [],
   "source": [
    "#lambda in list comprehensions\n",
    "#Return give every item in mylist divided by 2\n",
    "mylist = [1,2,3,4,5,6,7,8,9,10]\n",
    "#list comprehension\n",
    "[x/2 for x in mylist]\n",
    "\n",
    "new_list =[lambda x: x/2 for x in mylist] or [(lambda x: x/2)(x) for x in mylist]\n",
    "#or\n",
    "lambda = lambda x: x/2\n",
    "new_list = [lambda (x) for x in mylist]"
   ]
  },
  {
   "cell_type": "code",
   "execution_count": null,
   "metadata": {},
   "outputs": [],
   "source": [
    "#print out a list based on mylist and replace the odd numbers by zero\n",
    "[(lambda x: x if x%2==0 else 0)(x) for x in mylist] \n",
    "#or\n",
    "odd_list = [lambda x: x if x%2==0 else 0 for x in mylist]"
   ]
  },
  {
   "cell_type": "code",
   "execution_count": null,
   "metadata": {},
   "outputs": [],
   "source": [
    "# Lambda as Arguments in Functions\n",
    "# often used in combination with sort function which uses lambda expression as an argument (as a key)\n",
    "\n",
    "misters = [\"MisterE\", \"MisterB\", \"MisterD\", \"MisterF\"]\n",
    "sorted(misters, reverse=True)\n",
    "# last letter of each string with lambda\n",
    "last_lambda = lambda x: x[-1]\n",
    "# Now using sorting function with lambda as the key argument\n",
    "sorted(misters, key=last_lambda)\n",
    "#power of lambda, by complex sorting uses lambda as a key for example"
   ]
  },
  {
   "cell_type": "code",
   "execution_count": null,
   "metadata": {},
   "outputs": [],
   "source": [
    "#anothing exapmle for using lambda to sort sht\n",
    "\n",
    "List_tuples = [(\"eggs\", 1),(\"apples\", 2),(\"carrots\", 1),(\"beetroot\", 5)]\n",
    "#lambda fo second letter of first elemnt in tuple\n",
    "second_letter = lambda x: x[0][1]\n",
    "#lambda second letter of each string for sorting\n",
    "sorted(list_tuples, key=second_letter)"
   ]
  },
  {
   "cell_type": "code",
   "execution_count": null,
   "metadata": {},
   "outputs": [],
   "source": [
    "Sort the following list of dicts by the key year\n",
    "cars = [{\"model\": \"Audi\", \"year\":}]\n",
    "\n",
    "## Nachtragen!!"
   ]
  },
  {
   "cell_type": "code",
   "execution_count": 4,
   "metadata": {
    "scrolled": false
   },
   "outputs": [
    {
     "data": {
      "text/plain": [
       "[(1, 5), (2, 6), (3, 7), (4, 8)]"
      ]
     },
     "execution_count": 4,
     "metadata": {},
     "output_type": "execute_result"
    }
   ],
   "source": [
    "# Andere beliebte Anwendungsmethode von Lambda: Die Zip Funktion\n",
    "# Zip can be used when having two seperate itterable structures of any kind(lists, strings etc.)\n",
    "# For example one list a [1,2,3] and one b [\"one\", \"two\", \"three\"]\n",
    "# --> zip(a,b)- > zip will alwyas combine elements at same order and creates an object of tuple combinations\n",
    "#works also with a string and then uses the letters\n",
    "# when lists/sets etc., have not same about of elements, zip functions just creates tuple over available pairs and leaves\n",
    "# the rest behind\n",
    "# When same elements in one datastructre, zip will just kick double elements out when creating the new combined tuple\n",
    "\n",
    "# Bsp.\n",
    "list1 = [1,2,3,4]\n",
    "list2 = [5,6,7,8]\n",
    "#zip creates objects, you have to apply list to put objects into a list\n",
    "list(zip(list1,list2))\n",
    "\n",
    "#How to use in combination with lambda?\n",
    "#With zip we can iterate over two lists at the same time"
   ]
  },
  {
   "cell_type": "code",
   "execution_count": 26,
   "metadata": {},
   "outputs": [
    {
     "data": {
      "text/plain": [
       "[6, 8, 10, 12]"
      ]
     },
     "execution_count": 26,
     "metadata": {},
     "output_type": "execute_result"
    }
   ],
   "source": [
    "# Anwendungsbeispiel:\n",
    "#[a+b for (a,b) in zip(list1,list2)]\n",
    "#with lambda:\n",
    "[(lambda a,b: a+b)(a,b) for (a,b) in zip(liste1,liste2)]\n",
    "\n",
    "# (a,b) nötig weil lambda part ist nur die function, I still have to add variables to apply for\n",
    "# for each tuple in the object, add first and second element\n",
    "# Usecase lambda and list comprehension:\n",
    "# When lambda is supposed to bring two lists together --> Use first zip and lambda afterwards\n",
    "# When two diff. iterables in a lambda and a list comprehension\n",
    "# How to do without a zip?\n",
    "# Doing with a For-loop, but for list comprehension you need to say: \"for x in y\" and we than wouldnt have a single z"
   ]
  },
  {
   "cell_type": "code",
   "execution_count": null,
   "metadata": {},
   "outputs": [],
   "source": [
    "#Function of student portal\n",
    "#lower is defined as a contant"
   ]
  }
 ],
 "metadata": {
  "kernelspec": {
   "display_name": "Python 3",
   "language": "python",
   "name": "python3"
  },
  "language_info": {
   "codemirror_mode": {
    "name": "ipython",
    "version": 3
   },
   "file_extension": ".py",
   "mimetype": "text/x-python",
   "name": "python",
   "nbconvert_exporter": "python",
   "pygments_lexer": "ipython3",
   "version": "3.8.5"
  }
 },
 "nbformat": 4,
 "nbformat_minor": 2
}
