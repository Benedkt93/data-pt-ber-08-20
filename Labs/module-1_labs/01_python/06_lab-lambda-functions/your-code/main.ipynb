{
 "cells": [
  {
   "cell_type": "markdown",
   "metadata": {},
   "source": [
    "# Before your start:\n",
    "- Read the README.md file\n",
    "- Comment as much as you can and use the resources in the README.md file\n",
    "- Happy learning!"
   ]
  },
  {
   "cell_type": "markdown",
   "metadata": {},
   "source": [
    "# Challenge 0 - Creating Lambda Functions"
   ]
  },
  {
   "cell_type": "markdown",
   "metadata": {},
   "source": [
    "Create a lambda function which takes a number as an input and outputs its square. Apply the function to the numbers 5, 10 and 15."
   ]
  },
  {
   "cell_type": "code",
   "execution_count": 7,
   "metadata": {},
   "outputs": [
    {
     "data": {
      "text/plain": [
       "225"
      ]
     },
     "execution_count": 7,
     "metadata": {},
     "output_type": "execute_result"
    }
   ],
   "source": [
    "#your code here:\n",
    "square = lambda x: x**2\n",
    "(lambda x,y,z: x**2, y**2, z**2) (5)\n",
    "#square(5)\n",
    "#square(10)\n",
    "#square(15)"
   ]
  },
  {
   "cell_type": "markdown",
   "metadata": {},
   "source": [
    "Write a list comprehension which outputs a list of the numbers from 10 - 20, each multiplied by a factor of 8. Use a lambda expression to accomplish this"
   ]
  },
  {
   "cell_type": "code",
   "execution_count": 8,
   "metadata": {},
   "outputs": [
    {
     "data": {
      "text/plain": [
       "[80, 88, 96, 104, 112, 120, 128, 136, 144, 152, 160]"
      ]
     },
     "execution_count": 8,
     "metadata": {},
     "output_type": "execute_result"
    }
   ],
   "source": [
    "#your code here:\n",
    "[(lambda x: x*8)(x) for x in range(10, 21)]"
   ]
  },
  {
   "cell_type": "markdown",
   "metadata": {},
   "source": [
    "Create a list of 10 people named \"Person 0\" to \"Person 9\". Then sort the list by the number in their name, in reverse order."
   ]
  },
  {
   "cell_type": "code",
   "execution_count": 23,
   "metadata": {},
   "outputs": [
    {
     "data": {
      "text/plain": [
       "['Person9',\n",
       " 'Person8',\n",
       " 'Person7',\n",
       " 'Person6',\n",
       " 'Person5',\n",
       " 'Person4',\n",
       " 'Person3',\n",
       " 'Person2',\n",
       " 'Person1',\n",
       " 'Person0']"
      ]
     },
     "execution_count": 23,
     "metadata": {},
     "output_type": "execute_result"
    }
   ],
   "source": [
    "#your code here:\n",
    "people = [\"Person1\", \"Person2\", \"Person3\",\"Person4\", \"Person5\",\"Person6\",\"Person7\",\"Person8\",\"Person9\",\"Person0\"]\n",
    "last_lambda = lambda x: x[-1]\n",
    "sorted(people, key=last_lambda, reverse=True)\n",
    "# oder:\n",
    "print(sorted([(lambda x: 'Person ' + str(x))(x) for x in range(10)], key = (lambda x: x[-1]), reverse=True))"
   ]
  },
  {
   "cell_type": "markdown",
   "metadata": {},
   "source": [
    "# Challenge 1 - Passing a Lambda Expression to a Function\n",
    "\n",
    "In the next excercise you will create a function that returns a lambda expression. Create a function called `modify_list`. The function takes two arguments, a list and a lambda expression. The function iterates through the list and applies the lambda expression to every element in the list."
   ]
  },
  {
   "cell_type": "code",
   "execution_count": 1,
   "metadata": {},
   "outputs": [],
   "source": [
    "def modify_list(lst, lmbda):\n",
    "    \"\"\"\n",
    "    Input: list and lambda expression\n",
    "    \n",
    "    Output: the transformed list\n",
    "    \"\"\"\n",
    "    \n",
    "    #your code here:\n",
    "return [lmbda(x) for x in lst]\n"
   ]
  },
  {
   "cell_type": "markdown",
   "metadata": {},
   "source": [
    "#### Now we will define a lambda expression that will transform the elements of the list. \n",
    "\n",
    "In the cell below, create a lambda expression that converts Celsius to Kelvin. Recall that 0°C + 273.15 = 273.15K"
   ]
  },
  {
   "cell_type": "code",
   "execution_count": 19,
   "metadata": {},
   "outputs": [
    {
     "data": {
      "text/plain": [
       "273.15"
      ]
     },
     "execution_count": 19,
     "metadata": {},
     "output_type": "execute_result"
    }
   ],
   "source": [
    "# Your code here:\n",
    "(lambda c: c + 273.15)(c)\n",
    "# oder\n",
    "ctok = lambda c: c + 273.15"
   ]
  },
  {
   "cell_type": "markdown",
   "metadata": {},
   "source": [
    "Finally, convert the list of temperatures below from Celsius to Kelvin."
   ]
  },
  {
   "cell_type": "code",
   "execution_count": 4,
   "metadata": {},
   "outputs": [],
   "source": [
    "temps = [12, 23, 38, -55, 24]\n",
    "\n",
    "# Your code here:\n",
    "modify_list(temps, ctok)"
   ]
  },
  {
   "cell_type": "markdown",
   "metadata": {},
   "source": [
    "#### In this part, we will define a function that returns a lambda expression\n",
    "\n",
    "In the cell below, write a lambda expression that takes two numbers and returns 1 if one is divisible by the other and zero otherwise. Call the lambda expression `mod`."
   ]
  },
  {
   "cell_type": "code",
   "execution_count": 9,
   "metadata": {},
   "outputs": [],
   "source": [
    "# Your code here:\n",
    "mod = lambda a, b: 1 if a % b == 0 else 0"
   ]
  },
  {
   "cell_type": "markdown",
   "metadata": {},
   "source": [
    "#### Now create a function that returns mod. The function only takes one argument - the first number in the `mod` lambda function. \n",
    "\n",
    "Note: the lambda function above took two arguments, the lambda function in the return statement only takes one argument but also uses the argument passed to the function."
   ]
  },
  {
   "cell_type": "code",
   "execution_count": 13,
   "metadata": {},
   "outputs": [],
   "source": [
    "def divisor(b):\n",
    "    \"\"\"\n",
    "    input: a number\n",
    "    output: a function that returns 1 if the number is divisible by another number (to be passed later) and zero otherwise\n",
    "    \"\"\"\n",
    "    \n",
    "    # Your code here (hint: this is similar to the lambda expression you created above!):\n",
    "    return lambda a: 1 if a % b == 0 else 0"
   ]
  },
  {
   "cell_type": "markdown",
   "metadata": {},
   "source": [
    "Finally, pass the number 5 to `divisor`. Now the function will check whether a number is divisble by 5. Assign this function to `divisible5`"
   ]
  },
  {
   "cell_type": "code",
   "execution_count": 14,
   "metadata": {},
   "outputs": [],
   "source": [
    "# Your code here:\n",
    "divisible5 = divisor(5)"
   ]
  },
  {
   "cell_type": "markdown",
   "metadata": {},
   "source": [
    "Test your function with the following test cases:"
   ]
  },
  {
   "cell_type": "code",
   "execution_count": 15,
   "metadata": {},
   "outputs": [
    {
     "data": {
      "text/plain": [
       "1"
      ]
     },
     "execution_count": 15,
     "metadata": {},
     "output_type": "execute_result"
    }
   ],
   "source": [
    "divisible5(10)"
   ]
  },
  {
   "cell_type": "code",
   "execution_count": 16,
   "metadata": {},
   "outputs": [
    {
     "data": {
      "text/plain": [
       "0"
      ]
     },
     "execution_count": 16,
     "metadata": {},
     "output_type": "execute_result"
    }
   ],
   "source": [
    "divisible5(8)"
   ]
  },
  {
   "cell_type": "markdown",
   "metadata": {},
   "source": [
    "# Challenge 2 - Using Lambda Expressions in List Comprehensions\n",
    "\n",
    "In the following challenge, we will combine two lists using a lambda expression in a list comprehension. \n",
    "\n",
    "To do this, we will need to introduce the `zip` function. The `zip` function returns an iterator of tuples."
   ]
  },
  {
   "cell_type": "code",
   "execution_count": 10,
   "metadata": {},
   "outputs": [
    {
     "data": {
      "text/plain": [
       "[(1,), (2,), (3,), (4,), (5,)]"
      ]
     },
     "execution_count": 10,
     "metadata": {},
     "output_type": "execute_result"
    }
   ],
   "source": [
    "# Here is an example of passing one list to the zip function. \n",
    "# Since the zip function returns an iterator, we need to evaluate the iterator by using a list comprehension.\n",
    "\n",
    "l = [1,2,3,4,5]\n",
    "[x for x in zip(l)]"
   ]
  },
  {
   "cell_type": "markdown",
   "metadata": {},
   "source": [
    "Using the `zip` function, let's iterate through two lists and add the elements by position. Here is an example using a list comprehension."
   ]
  },
  {
   "cell_type": "code",
   "execution_count": 17,
   "metadata": {},
   "outputs": [
    {
     "data": {
      "text/plain": [
       "[22, 39, 87, 33]"
      ]
     },
     "execution_count": 17,
     "metadata": {},
     "output_type": "execute_result"
    }
   ],
   "source": [
    "list1 = [21, 35, 72, 11]\n",
    "list2 = [1, 4, 15, 22]\n",
    "\n",
    "[a + b for (a, b) in zip(list1, list2)]"
   ]
  },
  {
   "cell_type": "markdown",
   "metadata": {},
   "source": [
    "Using the `zip` function, write a lambda expression that combines the two strings (with a space between the strings) from both lists unless the two strings are identical."
   ]
  },
  {
   "cell_type": "code",
   "execution_count": 34,
   "metadata": {},
   "outputs": [
    {
     "data": {
      "text/plain": [
       "['Green eggs', 'cheese', 'English cucumber', 'tomato']"
      ]
     },
     "execution_count": 34,
     "metadata": {},
     "output_type": "execute_result"
    }
   ],
   "source": [
    "list1 = ['Green', 'cheese', 'English', 'tomato']\n",
    "list2 = ['eggs', 'cheese', 'cucumber', 'tomato']\n",
    "\n",
    "#Your code here:\n",
    "[(lambda a,b: a+\" \"+b) (a,b) if a != b else a for (a,b) in zip(list1,list2)]\n",
    "\n",
    "#combiner = lambda a, b: a+' '+b if a != b else a\n",
    "#[combiner(a, b) for (a, b) in zip(list1, list2)]"
   ]
  },
  {
   "cell_type": "markdown",
   "metadata": {},
   "source": [
    "# Challenge 3 - Using Lambda Expressions as Arguments\n",
    "\n",
    "#### In this challenge, we will zip together two lists and sort by the resulting tuple.\n",
    "\n",
    "In the cell below, take the two lists provided, zip them together and sort by the first letter of the second element of each tuple. Do this using a lambda function."
   ]
  },
  {
   "cell_type": "code",
   "execution_count": 25,
   "metadata": {},
   "outputs": [
    {
     "data": {
      "text/plain": [
       "[('Political Science', 'Essay'),\n",
       " ('Computer Science', 'Homework'),\n",
       " ('Engineering', 'Lab'),\n",
       " ('Mathematics', 'Module')]"
      ]
     },
     "execution_count": 25,
     "metadata": {},
     "output_type": "execute_result"
    }
   ],
   "source": [
    "list1 = ['Engineering', 'Computer Science', 'Political Science', 'Mathematics']\n",
    "list2 = ['Lab', 'Homework', 'Essay', 'Module']\n",
    "\n",
    "second_sort = lambda a: a[1]\n",
    "sorted(zip(list1, list2), key=second_sort)"
   ]
  },
  {
   "cell_type": "markdown",
   "metadata": {},
   "source": [
    "# Bonus Challenge - Sort a Dictionary by Values\n",
    "\n",
    "Given the dictionary below, sort it by values rather than by keys. Use a lambda function to specify the values as a sorting key."
   ]
  },
  {
   "cell_type": "code",
   "execution_count": 13,
   "metadata": {},
   "outputs": [],
   "source": [
    "d = {'Honda': 1997, 'Toyota': 1995, 'Audi': 2001, 'BMW': 2005}\n",
    "\n",
    "# Your code here:"
   ]
  },
  {
   "cell_type": "code",
   "execution_count": null,
   "metadata": {},
   "outputs": [],
   "source": [
    "####Ab hier class Erläuterungen:####"
   ]
  },
  {
   "cell_type": "code",
   "execution_count": null,
   "metadata": {},
   "outputs": [],
   "source": [
    "lambda in general\n",
    "variable_name = lambda x: x oder (lambda x: x)(x)"
   ]
  },
  {
   "cell_type": "code",
   "execution_count": null,
   "metadata": {},
   "outputs": [],
   "source": [
    "#lambda expression that adds 5 to number\n",
    "plus_five = lambda x: 5+x or (lambda x: x+5)(x)\n",
    "#giving it a name\n",
    "plus_five(2) or (lambda x: x+5)(2)"
   ]
  },
  {
   "cell_type": "code",
   "execution_count": 1,
   "metadata": {},
   "outputs": [
    {
     "ename": "SyntaxError",
     "evalue": "invalid syntax (<ipython-input-1-cfb848485eed>, line 6)",
     "output_type": "error",
     "traceback": [
      "\u001b[1;36m  File \u001b[1;32m\"<ipython-input-1-cfb848485eed>\"\u001b[1;36m, line \u001b[1;32m6\u001b[0m\n\u001b[1;33m    add_function () --> funktioniert nur mit einem Wert, wenn vorher Default in Funktion definiert wurde,\u001b[0m\n\u001b[1;37m                     ^\u001b[0m\n\u001b[1;31mSyntaxError\u001b[0m\u001b[1;31m:\u001b[0m invalid syntax\n"
     ]
    }
   ],
   "source": [
    "#Lambda expression also works with more than one argument\n",
    "#for example adding two elements\n",
    "variable_name = lambda x,y : x+y oder (lambda x: x)(x+y)\n",
    "def add_function (x,y):\n",
    "    return x+y\n",
    "add_function (5,2)\n",
    "add_function () \n",
    "#--> funktioniert auch, wenn ich nur einen Input Wert gebe, sofern ich in der Definition einen Default Wert für die andere \n",
    "#Variable definiert habe\n",
    "\n",
    "#Frage zuvor mit lambda lösen\n",
    "add_lambda = lambda x,y: x+y\n",
    "add-lambda (5,2)\n",
    "#oder\n",
    "(lambda x,y: x+y)(5,2)"
   ]
  },
  {
   "cell_type": "code",
   "execution_count": 3,
   "metadata": {},
   "outputs": [],
   "source": [
    "# Question: Return the max of two numbers:\n",
    "# like for list comprehension: output comes first in expression, afterwords the condition\n",
    "# lambda functions are there to do one operation in one code of line\n",
    "# can be applied to any DataStrctures\n",
    "\n",
    "return_max = lambda x, y: y if x<y else x\n",
    "return_max = (5,7)\n",
    "# also other way around possible\n"
   ]
  },
  {
   "cell_type": "code",
   "execution_count": 4,
   "metadata": {},
   "outputs": [
    {
     "ename": "NameError",
     "evalue": "name 'even_zero_function' is not defined",
     "output_type": "error",
     "traceback": [
      "\u001b[1;31m---------------------------------------------------------------------------\u001b[0m",
      "\u001b[1;31mNameError\u001b[0m                                 Traceback (most recent call last)",
      "\u001b[1;32m<ipython-input-4-a968322e9934>\u001b[0m in \u001b[0;36m<module>\u001b[1;34m\u001b[0m\n\u001b[0;32m      6\u001b[0m     \u001b[1;32melse\u001b[0m\u001b[1;33m:\u001b[0m\u001b[1;33m\u001b[0m\u001b[1;33m\u001b[0m\u001b[0m\n\u001b[0;32m      7\u001b[0m         \u001b[1;32mreturn\u001b[0m \u001b[1;36m0\u001b[0m\u001b[1;33m\u001b[0m\u001b[1;33m\u001b[0m\u001b[0m\n\u001b[1;32m----> 8\u001b[1;33m \u001b[0meven_zero_function\u001b[0m\u001b[1;33m(\u001b[0m\u001b[1;36m4\u001b[0m\u001b[1;33m)\u001b[0m\u001b[1;33m\u001b[0m\u001b[1;33m\u001b[0m\u001b[0m\n\u001b[0m\u001b[0;32m      9\u001b[0m \u001b[1;31m# when using print instead of return in function, i can use function golabally and it works ( x= even_zero_function ()) but can not use print (x) outside\u001b[0m\u001b[1;33m\u001b[0m\u001b[1;33m\u001b[0m\u001b[1;33m\u001b[0m\u001b[0m\n\u001b[0;32m     10\u001b[0m \u001b[1;31m# print then does return none as fucntion returns nothing when using print inside\u001b[0m\u001b[1;33m\u001b[0m\u001b[1;33m\u001b[0m\u001b[1;33m\u001b[0m\u001b[0m\n",
      "\u001b[1;31mNameError\u001b[0m: name 'even_zero_function' is not defined"
     ]
    }
   ],
   "source": [
    "# If Statements\n",
    "# Write a function which outputs the number if it is even and 0 otherwise\n",
    "def even_zero_funtion (x):\n",
    "    if x%2==0:\n",
    "        return x\n",
    "    else:\n",
    "        return 0\n",
    "even_zero_function(4) \n",
    "\n",
    "# when using print instead of return in function, I can use function golabally and it works ( x= even_zero_function ()) \n",
    "# but can not use print (x) outside!\n",
    "# print then does return none as function returns nothing when using print inside!\n",
    "# usually no print inside a function\n",
    "# now same with lambda:\n",
    "even_zero_function = lambda x: x if x%2==0 else 0 or (lambda x: x if x%2==0 elso 0)(x)   \n",
    "even_zero:funtion (4)\n",
    "        "
   ]
  },
  {
   "cell_type": "code",
   "execution_count": null,
   "metadata": {},
   "outputs": [],
   "source": [
    "#lambda in list comprehensions\n",
    "#Return give every item in mylist divided by 2\n",
    "mylist = [1,2,3,4,5,6,7,8,9,10]\n",
    "#list comprehension\n",
    "[x/2 for x in mylist]\n",
    "\n",
    "new_list =[lambda x: x/2 for x in mylist] or [(lambda x: x/2)(x) for x in mylist]\n",
    "#or\n",
    "lambda = lambda x: x/2\n",
    "new_list = [lambda (x) for x in mylist]"
   ]
  },
  {
   "cell_type": "code",
   "execution_count": null,
   "metadata": {},
   "outputs": [],
   "source": [
    "#print out a list based on mylist and replace the odd numbers by zero\n",
    "[(lambda x: x if x%2==0 else 0)(x) for x in mylist] \n",
    "#or\n",
    "odd_list = [lambda x: x if x%2==0 else 0 for x in mylist]"
   ]
  },
  {
   "cell_type": "code",
   "execution_count": null,
   "metadata": {},
   "outputs": [],
   "source": [
    "# Lambda as Arguments in Functions\n",
    "# often used in combination with sort function which uses lambda expression as an argument (as a key)\n",
    "\n",
    "misters = [\"MisterE\", \"MisterB\", \"MisterD\", \"MisterF\"]\n",
    "sorted(misters, reverse=True)\n",
    "# last letter of each string with lambda\n",
    "last_lambda = lambda x: x[-1]\n",
    "# Now using sorting function with lambda as the key argument\n",
    "sorted(misters, key=last_lambda)\n",
    "#power of lambda, by complex sorting uses lambda as a key for example"
   ]
  },
  {
   "cell_type": "code",
   "execution_count": null,
   "metadata": {},
   "outputs": [],
   "source": [
    "#anothing exapmle for using lambda to sort sht\n",
    "\n",
    "List_tuples = [(\"eggs\", 1),(\"apples\", 2),(\"carrots\", 1),(\"beetroot\", 5)]\n",
    "#lambda fo second letter of first elemnt in tuple\n",
    "second_letter = lambda x: x[0][1]\n",
    "#lambda second letter of each string for sorting\n",
    "sorted(list_tuples, key=second_letter)"
   ]
  },
  {
   "cell_type": "code",
   "execution_count": null,
   "metadata": {},
   "outputs": [],
   "source": [
    "Sort the following list of dicts by the key year\n",
    "cars = [{\"model\": \"Audi\", \"year\":}]\n",
    "\n",
    "## Nachtragen!!"
   ]
  },
  {
   "cell_type": "code",
   "execution_count": 4,
   "metadata": {
    "scrolled": false
   },
   "outputs": [
    {
     "data": {
      "text/plain": [
       "[(1, 5), (2, 6), (3, 7), (4, 8)]"
      ]
     },
     "execution_count": 4,
     "metadata": {},
     "output_type": "execute_result"
    }
   ],
   "source": [
    "# Andere beliebte Anwendungsmethode von Lambda: Die Zip Funktion\n",
    "# Zip can be used when having two seperate itterable structures of any kind(lists, strings etc.)\n",
    "# For example one list a [1,2,3] and one b [\"one\", \"two\", \"three\"]\n",
    "# --> zip(a,b)- > zip will alwyas combine elements at same order and creates an object of tuple combinations\n",
    "#works also with a string and then uses the letters\n",
    "# when lists/sets etc., have not same about of elements, zip functions just creates tuple over available pairs and leaves\n",
    "# the rest behind\n",
    "# When same elements in one datastructre, zip will just kick double elements out when creating the new combined tuple\n",
    "\n",
    "# Bsp.\n",
    "list1 = [1,2,3,4]\n",
    "list2 = [5,6,7,8]\n",
    "#zip creates objects, you have to apply list to put objects into a list\n",
    "list(zip(list1,list2))\n",
    "\n",
    "#How to use in combination with lambda?\n",
    "#With zip we can iterate over two lists at the same time"
   ]
  },
  {
   "cell_type": "code",
   "execution_count": 26,
   "metadata": {},
   "outputs": [
    {
     "data": {
      "text/plain": [
       "[6, 8, 10, 12]"
      ]
     },
     "execution_count": 26,
     "metadata": {},
     "output_type": "execute_result"
    }
   ],
   "source": [
    "# Anwendungsbeispiel:\n",
    "#[a+b for (a,b) in zip(list1,list2)]\n",
    "#with lambda:\n",
    "[(lambda a,b: a+b)(a,b) for (a,b) in zip(liste1,liste2)]\n",
    "\n",
    "# (a,b) nötig weil lambda part ist nur die function, I still have to add variables to apply for\n",
    "# for each tuple in the object, add first and second element\n",
    "# Usecase lambda and list comprehension:\n",
    "# When lambda is supposed to bring two lists together --> Use first zip and lambda afterwards\n",
    "# When two diff. iterables in a lambda and a list comprehension\n",
    "# How to do without a zip?\n",
    "# Doing with a For-loop, but for list comprehension you need to say: \"for x in y\" and we than wouldnt have a single z"
   ]
  }
 ],
 "metadata": {
  "kernelspec": {
   "display_name": "Python 3",
   "language": "python",
   "name": "python3"
  },
  "language_info": {
   "codemirror_mode": {
    "name": "ipython",
    "version": 3
   },
   "file_extension": ".py",
   "mimetype": "text/x-python",
   "name": "python",
   "nbconvert_exporter": "python",
   "pygments_lexer": "ipython3",
   "version": "3.8.5"
  }
 },
 "nbformat": 4,
 "nbformat_minor": 2
}
