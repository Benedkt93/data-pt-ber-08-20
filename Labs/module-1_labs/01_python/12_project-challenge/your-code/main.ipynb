{
 "cells": [
  {
   "cell_type": "markdown",
   "metadata": {},
   "source": [
    "## Challenge A: Password Validator\n",
    "\n",
    "#### Description\n",
    "Your job is to create a simple password validation function, as seen on many websites.\n",
    "\n",
    "The rules for a valid password are as follows:\n",
    "\n",
    "There needs to be at least 1 uppercase letter.\n",
    "There needs to be at least 1 lowercase letter.\n",
    "There needs to be at least 1 number.\n",
    "The password needs to be at least 8 characters long.\n",
    "\n",
    "*You are permitted to use any methods to validate the password.*"
   ]
  },
  {
   "cell_type": "code",
   "execution_count": 20,
   "metadata": {},
   "outputs": [
    {
     "data": {
      "text/plain": [
       "False"
      ]
     },
     "execution_count": 20,
     "metadata": {},
     "output_type": "execute_result"
    }
   ],
   "source": [
    "# my solution\n",
    "def validation(x):\n",
    "    if (any(i.isdigit() for i in x)) and (any(i.isupper() for i in x)) and (any(i.islower() for i in x)) and len(x) < 8:\n",
    "        return True\n",
    "    else:\n",
    "        return False\n",
    "validation(\"Hallo\") \n"
   ]
  },
  {
   "cell_type": "code",
   "execution_count": 2,
   "metadata": {},
   "outputs": [],
   "source": [
    "#Official solution:\n",
    "# your code here\n",
    "\n",
    "def validate(x):\n",
    "    if sum(list(map(str.isupper, x))) >= 1:\n",
    "        if sum(list(map(str.islower, x))) >= 1:\n",
    "            if sum(list(map(str.isnumeric, x))) >= 1:\n",
    "                if len(x) >= 8:\n",
    "                    print(\"Thank you! All good.\")\n",
    "                    return True\n",
    "    print(\"This password is not valid.\")\n",
    "    return False    \n",
    "\n",
    "# string are iterable(better: indexable) so string is treated like a list of characters; and mapping function isupper to the list of characters\n",
    "# True =1 and False = 0\n",
    "# len(findsall \" [A-Z]\", x) == 1 works the same way; chekcs if there is exactly one uppercase letter\n",
    "# So Reg Ex is as good as well\n",
    "# when function you can avoid having else by using return; when no return, you need else to stop a function\n",
    "# function that does not fail will only exit when return"
   ]
  },
  {
   "cell_type": "code",
   "execution_count": 3,
   "metadata": {},
   "outputs": [
    {
     "name": "stdout",
     "output_type": "stream",
     "text": [
      "Please type your password: Hallo\n",
      "This password is not valid.\n"
     ]
    },
    {
     "data": {
      "text/plain": [
       "False"
      ]
     },
     "execution_count": 3,
     "metadata": {},
     "output_type": "execute_result"
    }
   ],
   "source": [
    "#Official solution:\n",
    "pw = input(\"Please type your password: \")\n",
    "validate(pw)"
   ]
  },
  {
   "cell_type": "markdown",
   "metadata": {},
   "source": [
    "## Challenge B: Credit Card Validator\n",
    "\n",
    "#### Description\n",
    "\n",
    "Your task is to write a program which reads credit card number prints the validation result ‘Valid’ or ‘Invalid’.\n",
    "\n",
    "A valid credit card has following features:\n",
    "\n",
    "- It should start with 4, 5 or 6\n",
    "- It should have exactly 16 digits\n",
    "- It should only consist of digits (0-9)\n",
    "- It may have digits in groups of 4 and separated by one hyphen \"-\"\n",
    "- It should NOT use any other separator like ‘ ’,‘_’, etc.\n",
    "- It should NOT have 4 or more consecutive repeated digits\n",
    "\n",
    "Valid Credit Card Numbers:\n",
    "1. 4263525778615786\n",
    "2. 5535535535559555\n",
    "3. 6344-2389-7542-9163\n",
    "\n",
    "Invalid Credit Card Numbers:\n",
    "1. 42536258796157867       \n",
    "2. 66266666626662666       \n",
    "3. 5122-2368-7954 -3214   \n",
    "4. 44244x4424442444       \n",
    "5. 0525362587961578"
   ]
  },
  {
   "cell_type": "code",
   "execution_count": 4,
   "metadata": {},
   "outputs": [],
   "source": [
    "# your code here (Christina)\n",
    "\n",
    "def validate_cc(x):\n",
    "    import re\n",
    "    if (x[0] in ['4', '5', '6']) & (len(x.replace('-', ''))==16) & (set(re.findall('[\\W]', x)) in [set(), {'-'}]) & ((x.isnumeric()) or (not (not re.search('\\d\\d\\d\\d-\\d\\d\\d\\d-\\d\\d\\d\\d-\\d\\d\\d\\d', x)))) & (not [re.findall(str(i)*5, x.replace('-', '')) for i in range(10)] == [[]]):\n",
    "        print(\"Thank you! All good.\")\n",
    "        return True\n",
    "    else:\n",
    "        print(\"This number is not a valid credit card number.\")\n",
    "        return False\n",
    "\n",
    "# all in one if clause is the same as having several if clauses in a row\n",
    "# strings are iterable, so I can access strings by x[0], to access first string\n",
    "# important to check if x is in a list of strings, as x is a string; checking for list of numbers it would fail\n",
    "# as input always returns a string\n",
    "# it does not matter if it has dashes or not, but even it has, it needs a length of 16 when taking these out\n",
    "# the only non nummeric dashes that I allow are dashes; therefore I search for all characters which are not numeric and I take them as a set to just get the duplicates\n",
    "# and than I say that the characters that are not numeric can either be none at all (empty set) or it can be dash\n",
    "# {'-'} = set of only dashes\n",
    "# next conditions says it can all be digits or groups of 4 digits seperated by dashes; search and findall is both good here\n",
    "# double \"not\" to get a false value\n",
    "# last condition: findall to get all, looping through each each number in range and check if any of them exisits in a version of 5 times in a row\n"
   ]
  },
  {
   "cell_type": "code",
   "execution_count": null,
   "metadata": {},
   "outputs": [],
   "source": [
    "cc = input(\"Please type your credit card number: \")\n",
    "validate_cc(cc)"
   ]
  },
  {
   "cell_type": "code",
   "execution_count": null,
   "metadata": {},
   "outputs": [],
   "source": [
    "# your code here (Filipa)\n",
    "\n",
    "def dashes(x):\n",
    "    s = str(x)\n",
    "    no_ints = ''.join([i for i in s if not i.isdigit()])\n",
    "    if (s[4] == '-') and (s[9] == '-') and (s[14] == '-') and (no_ints == '---') and (len(s) == 19):\n",
    "        return True\n",
    "\n",
    "def no_four_consecutive_1(num): # or find in list of 0000, 1111, 2222\n",
    "    res = \"\".join(num.split(\"-\"))\n",
    "    for i in range(len(res)):\n",
    "        try:\n",
    "            if (res[i] == res[i+1]):\n",
    "                if (res[i+1] == res[i+2]):\n",
    "                    if (res[i+2] == res[i+3]): # try with and and and...\n",
    "                        return False\n",
    "        except IndexError:\n",
    "            pass\n",
    "    return True\n",
    "\n",
    "# or...\n",
    "\n",
    "def no_four_consecutive_2(num):\n",
    "    res = \"\".join(num.split(\"-\"))\n",
    "    consecutives = [str(i)*4 for i in range(0,10)]\n",
    "    for i in consecutives:\n",
    "        if i in res:\n",
    "            return False\n",
    "    else:\n",
    "        return True"
   ]
  },
  {
   "cell_type": "code",
   "execution_count": null,
   "metadata": {},
   "outputs": [],
   "source": [
    "s = input(\"Credit card validator: \")\n",
    "\n",
    "if s[0] not in ['4', '5', '6']:\n",
    "    print ('Invalid')\n",
    "elif (len(s) != 16):\n",
    "    if dashes(s) and no_four_consecutive_2(s):\n",
    "        print('Valid')\n",
    "    else:\n",
    "        print('Invalid')\n",
    "elif len(s) == 16 and s.isdigit():\n",
    "    if not no_four_consecutive(s):\n",
    "        print('Invalid')\n",
    "    else:\n",
    "        print('Valid')"
   ]
  },
  {
   "cell_type": "markdown",
   "metadata": {},
   "source": [
    "## Challenge C: Multiplication Table\n",
    "\n",
    "#### Description\n",
    "    \n",
    "Your task, is to create a function which returns a **NxN multiplication table**, of size N provided as a function argument.\n",
    "\n",
    "for example, when given size is 3:\n",
    "\n",
    "1 2 3\n",
    "\n",
    "2 4 6\n",
    "\n",
    "3 6 9\n",
    "\n",
    "So for the given example, the return value should be: [[1,2,3],[2,4,6],[3,6,9]]"
   ]
  },
  {
   "cell_type": "code",
   "execution_count": 11,
   "metadata": {},
   "outputs": [
    {
     "name": "stdout",
     "output_type": "stream",
     "text": [
      "1\t2\t3\t\n",
      "2\t4\t6\t\n",
      "3\t6\t9\t\n"
     ]
    }
   ],
   "source": [
    "# my solution:\n",
    "def multiplication_table(x):\n",
    "    for row in range(1,x+1):\n",
    "        for col in range(1,x+1):\n",
    "            print(row*col, end=\"\\t\")\n",
    "        print()\n",
    "multiplication_table(3)"
   ]
  },
  {
   "cell_type": "code",
   "execution_count": null,
   "metadata": {},
   "outputs": [],
   "source": [
    "# official solution\n",
    "# your code here\n",
    "\n",
    "def multable(x):\n",
    "    import numpy as np\n",
    "    if not x.isnumeric():\n",
    "        print(\"This is not a positive number.\")\n",
    "        return False\n",
    "    x = int(x)\n",
    "    if int(x)<=0:\n",
    "        print(\"This is not a positive number.\")\n",
    "        return False\n",
    "    y = np.ones((x,x))\n",
    "    y[0:,0] = np.arange(1,x+1)\n",
    "    y[0,0:] = np.arange(1,x+1)\n",
    "    for i in range(1, x):\n",
    "        for j in range(1, x):\n",
    "            y[i, j] = y[i, 0] * y[0, j]\n",
    "    return y"
   ]
  },
  {
   "cell_type": "code",
   "execution_count": null,
   "metadata": {},
   "outputs": [],
   "source": [
    "# official solution\n",
    "mult = input(\"Please give a number larger than 0: \")\n",
    "multable(mult)"
   ]
  },
  {
   "cell_type": "code",
   "execution_count": null,
   "metadata": {},
   "outputs": [],
   "source": [
    "# official solution2\n",
    "# in one line of code\n",
    "\n",
    "def mult_table(x):\n",
    "    return np.array([list(i*np.arange(1,x+1)) for i in range(1, x+1)])\n",
    "\n",
    "mult_table(3)\n"
   ]
  },
  {
   "cell_type": "markdown",
   "metadata": {},
   "source": [
    "## Challenge D: ID Assignment\n",
    "\n",
    "#### Description\n",
    "\n",
    "a) You work in a company with 100 people - to start, please create a list of people ranging from Person 1 to Person 100. For company purposes, each of these people is identified with a Personal ID, which is a combination of 2 uppercase letters and a random number of 5 digits. For each person, generate a random ID, and store it in a dictionary alongside their name (for example ('Person 5': 'AB73648')). Then sort the dictionary according to the values of their Personal IDs.\n",
    "\n",
    "b) One month later, your company changes the ID format for every employee - from now on, every person will have an ID that consists of only letters. In order to convert them, every number in the employee ID should be replaced by the corresponding uppercase letter in the alphabeth. Please write a function that accomplishes this change and apply it to the dictionary."
   ]
  },
  {
   "cell_type": "code",
   "execution_count": 5,
   "metadata": {},
   "outputs": [
    {
     "name": "stdout",
     "output_type": "stream",
     "text": [
      "{'Person 1': 'TY85976', 'Person 2': 'NF37039', 'Person 3': 'SS58246', 'Person 4': 'IA38564', 'Person 5': 'BB60989', 'Person 6': 'FW19896', 'Person 7': 'CN89816', 'Person 8': 'JB39881', 'Person 9': 'ES91542', 'Person 10': 'GG12986', 'Person 11': 'QT77950', 'Person 12': 'TR66705', 'Person 13': 'QS30765', 'Person 14': 'XY59445', 'Person 15': 'MU35073', 'Person 16': 'NF95286', 'Person 17': 'MD80503', 'Person 18': 'EH11267', 'Person 19': 'CC55487', 'Person 20': 'LJ30774', 'Person 21': 'KP19803', 'Person 22': 'BF77310', 'Person 23': 'DW95467', 'Person 24': 'MO42314', 'Person 25': 'JX25666', 'Person 26': 'TL16586', 'Person 27': 'DM77188', 'Person 28': 'RY40837', 'Person 29': 'CR17407', 'Person 30': 'XT23826', 'Person 31': 'HO17448', 'Person 32': 'YS77389', 'Person 33': 'FU50742', 'Person 34': 'ND37504', 'Person 35': 'UB52040', 'Person 36': 'HT60035', 'Person 37': 'IT86654', 'Person 38': 'MF86635', 'Person 39': 'VD40210', 'Person 40': 'UV68532', 'Person 41': 'BO30647', 'Person 42': 'MH46286', 'Person 43': 'WI81144', 'Person 44': 'KO46796', 'Person 45': 'DC95410', 'Person 46': 'MN49229', 'Person 47': 'YJ17903', 'Person 48': 'XW46027', 'Person 49': 'BQ13616', 'Person 50': 'TN85600', 'Person 51': 'WB91439', 'Person 52': 'IB88089', 'Person 53': 'CQ25386', 'Person 54': 'TM25336', 'Person 55': 'AF63833', 'Person 56': 'RX60349', 'Person 57': 'QR22690', 'Person 58': 'SB10359', 'Person 59': 'CY30562', 'Person 60': 'OC63786', 'Person 61': 'GP10580', 'Person 62': 'NS89282', 'Person 63': 'SN25804', 'Person 64': 'BT70409', 'Person 65': 'TC57058', 'Person 66': 'RS81733', 'Person 67': 'UG91093', 'Person 68': 'AK74085', 'Person 69': 'DH10623', 'Person 70': 'OA29109', 'Person 71': 'RV14054', 'Person 72': 'KP48074', 'Person 73': 'JG54833', 'Person 74': 'VP94133', 'Person 75': 'DI17122', 'Person 76': 'GD28331', 'Person 77': 'FV68349', 'Person 78': 'TW52432', 'Person 79': 'CQ80224', 'Person 80': 'BW39271', 'Person 81': 'OK20567', 'Person 82': 'RI36261', 'Person 83': 'LS70990', 'Person 84': 'HQ71030', 'Person 85': 'NJ80909', 'Person 86': 'HY55201', 'Person 87': 'CQ11425', 'Person 88': 'FI90845', 'Person 89': 'CJ83851', 'Person 90': 'UO86981', 'Person 91': 'TX93317', 'Person 92': 'GN22491', 'Person 93': 'YD51564', 'Person 94': 'ET73797', 'Person 95': 'WK47258', 'Person 96': 'GR51036', 'Person 97': 'PI41468', 'Person 98': 'PK79419', 'Person 99': 'HU30053', 'Person 100': 'XX90669'}\n",
      "{'Person 1': 'TYHEIGF', 'Person 2': 'NFCGZCI', 'Person 3': 'SSEHBDF', 'Person 4': 'IACHEFD', 'Person 5': 'BBFZIHI', 'Person 6': 'FWAIHIF', 'Person 7': 'CNHIHAF', 'Person 8': 'JBCIHHA', 'Person 9': 'ESIAEDB', 'Person 10': 'GGABIHF', 'Person 11': 'QTGGIEZ', 'Person 12': 'TRFFGZE', 'Person 13': 'QSCZGFE', 'Person 14': 'XYEIDDE', 'Person 15': 'MUCEZGC', 'Person 16': 'NFIEBHF', 'Person 17': 'MDHZEZC', 'Person 18': 'EHAABFG', 'Person 19': 'CCEEDHG', 'Person 20': 'LJCZGGD', 'Person 21': 'KPAIHZC', 'Person 22': 'BFGGCAZ', 'Person 23': 'DWIEDFG', 'Person 24': 'MODBCAD', 'Person 25': 'JXBEFFF', 'Person 26': 'TLAFEHF', 'Person 27': 'DMGGAHH', 'Person 28': 'RYDZHCG', 'Person 29': 'CRAGDZG', 'Person 30': 'XTBCHBF', 'Person 31': 'HOAGDDH', 'Person 32': 'YSGGCHI', 'Person 33': 'FUEZGDB', 'Person 34': 'NDCGEZD', 'Person 35': 'UBEBZDZ', 'Person 36': 'HTFZZCE', 'Person 37': 'ITHFFED', 'Person 38': 'MFHFFCE', 'Person 39': 'VDDZBAZ', 'Person 40': 'UVFHECB', 'Person 41': 'BOCZFDG', 'Person 42': 'MHDFBHF', 'Person 43': 'WIHAADD', 'Person 44': 'KODFGIF', 'Person 45': 'DCIEDAZ', 'Person 46': 'MNDIBBI', 'Person 47': 'YJAGIZC', 'Person 48': 'XWDFZBG', 'Person 49': 'BQACFAF', 'Person 50': 'TNHEFZZ', 'Person 51': 'WBIADCI', 'Person 52': 'IBHHZHI', 'Person 53': 'CQBECHF', 'Person 54': 'TMBECCF', 'Person 55': 'AFFCHCC', 'Person 56': 'RXFZCDI', 'Person 57': 'QRBBFIZ', 'Person 58': 'SBAZCEI', 'Person 59': 'CYCZEFB', 'Person 60': 'OCFCGHF', 'Person 61': 'GPAZEHZ', 'Person 62': 'NSHIBHB', 'Person 63': 'SNBEHZD', 'Person 64': 'BTGZDZI', 'Person 65': 'TCEGZEH', 'Person 66': 'RSHAGCC', 'Person 67': 'UGIAZIC', 'Person 68': 'AKGDZHE', 'Person 69': 'DHAZFBC', 'Person 70': 'OABIAZI', 'Person 71': 'RVADZED', 'Person 72': 'KPDHZGD', 'Person 73': 'JGEDHCC', 'Person 74': 'VPIDACC', 'Person 75': 'DIAGABB', 'Person 76': 'GDBHCCA', 'Person 77': 'FVFHCDI', 'Person 78': 'TWEBDCB', 'Person 79': 'CQHZBBD', 'Person 80': 'BWCIBGA', 'Person 81': 'OKBZEFG', 'Person 82': 'RICFBFA', 'Person 83': 'LSGZIIZ', 'Person 84': 'HQGAZCZ', 'Person 85': 'NJHZIZI', 'Person 86': 'HYEEBZA', 'Person 87': 'CQAADBE', 'Person 88': 'FIIZHDE', 'Person 89': 'CJHCHEA', 'Person 90': 'UOHFIHA', 'Person 91': 'TXICCAG', 'Person 92': 'GNBBDIA', 'Person 93': 'YDEAEFD', 'Person 94': 'ETGCGIG', 'Person 95': 'WKDGBEH', 'Person 96': 'GREAZCF', 'Person 97': 'PIDADFH', 'Person 98': 'PKGIDAI', 'Person 99': 'HUCZZEC', 'Person 100': 'XXIZFFI'}\n"
     ]
    }
   ],
   "source": [
    "# your code here\n",
    "import numpy as np\n",
    "import string\n",
    "\n",
    "# a)\n",
    "people = [(lambda x: \"Person \" + str(x))(x) for x in range(1, 101)]\n",
    "ids = set([string.ascii_uppercase[np.random.randint(25)] + string.ascii_uppercase[np.random.randint(25)] + str(np.random.randint(10000, 100000)) for x in range(1, 101)]) \n",
    "\n",
    "people_ids = dict(zip(people, ids))\n",
    "print(people_ids)\n",
    "\n",
    "# b)\n",
    "def convert_ids(x):\n",
    "    newid = x[0:2]\n",
    "    for i in range(2, 7):\n",
    "        newid = newid + string.ascii_uppercase[int(x[i])-1]\n",
    "    return newid\n",
    "\n",
    "for (k, v) in people_ids.items():\n",
    "    people_ids[k] = convert_ids(v)\n",
    "\n",
    "print(people_ids)\n",
    "\n",
    "# a)\n",
    "# I pick a string of alphabet, accessed by random number between 1 and 25( \"z\" has index 25 in alphabet)\n",
    "# next a random letter again\n",
    "# random number between 10000 and 100000 to get a five digit number\n",
    "# also using with list comprehension possible?!\n",
    "\n",
    "# b)\n",
    "# -1 to make number one corresponding to a and not number 0; 0 would be z and 1 would be a"
   ]
  },
  {
   "cell_type": "code",
   "execution_count": null,
   "metadata": {},
   "outputs": [],
   "source": []
  }
 ],
 "metadata": {
  "kernelspec": {
   "display_name": "Python 3",
   "language": "python",
   "name": "python3"
  },
  "language_info": {
   "codemirror_mode": {
    "name": "ipython",
    "version": 3
   },
   "file_extension": ".py",
   "mimetype": "text/x-python",
   "name": "python",
   "nbconvert_exporter": "python",
   "pygments_lexer": "ipython3",
   "version": "3.8.5"
  }
 },
 "nbformat": 4,
 "nbformat_minor": 2
}
