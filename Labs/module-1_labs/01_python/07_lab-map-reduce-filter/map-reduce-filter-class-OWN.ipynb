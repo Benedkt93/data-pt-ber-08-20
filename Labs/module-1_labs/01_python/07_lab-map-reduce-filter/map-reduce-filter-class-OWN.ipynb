{
 "cells": [
  {
   "cell_type": "markdown",
   "metadata": {},
   "source": [
    "# Before your start:\n",
    "- Read the README.md file\n",
    "- Comment as much as you can and use the resources in the README.md file\n",
    "- Happy learning!"
   ]
  },
  {
   "cell_type": "code",
   "execution_count": 1,
   "metadata": {},
   "outputs": [],
   "source": [
    "# import reduce from functools, numpy and pandas\n",
    "from functools import reduce\n",
    "import numpy as np\n",
    "import pandas as pd"
   ]
  },
  {
   "cell_type": "markdown",
   "metadata": {},
   "source": [
    "MAP-Reduce-Filter-Class\n"
   ]
  },
  {
   "cell_type": "code",
   "execution_count": null,
   "metadata": {},
   "outputs": [],
   "source": [
    "#Map:"
   ]
  },
  {
   "cell_type": "code",
   "execution_count": 4,
   "metadata": {},
   "outputs": [
    {
     "name": "stdout",
     "output_type": "stream",
     "text": [
      "[0.5, 2.0, 3.5, 2.0, 3.0, 4.0, 4.5]\n"
     ]
    }
   ],
   "source": [
    "#Every element is list gets halfed\n",
    "def half(x): \n",
    "    return x/2\n",
    "mylist = [1,4,7,4,6,8,9]\n",
    "mynewlist=list(map(half,mylist))\n",
    "print(mynewlist)\n",
    "# we could aslo turn it in a set for example; causes that just unique values stay left\n",
    "\n",
    "#now with lambda\n",
    "half_lampda = lambda x: x/2\n",
    "mynewlist=list(map(half_lambda,mylist))\n",
    "mynewlist=list(map(lambda x: x/2,mylist))"
   ]
  },
  {
   "cell_type": "code",
   "execution_count": null,
   "metadata": {},
   "outputs": [],
   "source": [
    "#Filter:"
   ]
  },
  {
   "cell_type": "code",
   "execution_count": null,
   "metadata": {},
   "outputs": [],
   "source": [
    "#Define a function that returns the number if it is even and nothing itherwise\n",
    "def even_num (x):\n",
    "    for i in range(x):\n",
    "        if x%2==0:\n",
    "            return x\n",
    "        \n",
    "#lambda:\n",
    "#lambda x: x%2==0)"
   ]
  },
  {
   "cell_type": "code",
   "execution_count": 54,
   "metadata": {},
   "outputs": [
    {
     "ename": "SyntaxError",
     "evalue": "invalid syntax (<ipython-input-54-25bb5017e093>, line 2)",
     "output_type": "error",
     "traceback": [
      "\u001b[1;36m  File \u001b[1;32m\"<ipython-input-54-25bb5017e093>\"\u001b[1;36m, line \u001b[1;32m2\u001b[0m\n\u001b[1;33m    apply filter on it\u001b[0m\n\u001b[1;37m          ^\u001b[0m\n\u001b[1;31mSyntaxError\u001b[0m\u001b[1;31m:\u001b[0m invalid syntax\n"
     ]
    }
   ],
   "source": [
    "#mylist = [1,4,7,4,6,8,9]\n",
    "apply filter on it\n",
    "list(filter(even_num,mylist))\n",
    "list(filter((lambda x: x%2==0), mylist))\n",
    "#What is diff between filter and map?\n",
    "#map: transforms every sinlge element in a iterable sequence \n",
    "#filter: filter does not change elements but filters elements in a iterable sequence by a defined condition\n",
    "#map does not chance lenght of list in general; for sets yes, but never for lists"
   ]
  },
  {
   "cell_type": "code",
   "execution_count": null,
   "metadata": {},
   "outputs": [],
   "source": [
    "#Reduce:"
   ]
  },
  {
   "cell_type": "code",
   "execution_count": null,
   "metadata": {},
   "outputs": [],
   "source": [
    "from functools import reduce\n",
    "def add_func (x,y):\n",
    "    return x+y\n",
    "#reduce(add_function,mylist)\n",
    "#reduce((lambda x,y: x+y), mylist)\n",
    "#can take initinal value as a additional argument at the end\n",
    "\n",
    "#multiplication:\n",
    "#reduce((lambda x,y: x*y)),mylist, 10)\n",
    "#for reduce you need function with two argument to show haw to match elements together\n",
    "# syntax df.apply(func)"
   ]
  }
 ],
 "metadata": {
  "kernelspec": {
   "display_name": "Python 3",
   "language": "python",
   "name": "python3"
  },
  "language_info": {
   "codemirror_mode": {
    "name": "ipython",
    "version": 3
   },
   "file_extension": ".py",
   "mimetype": "text/x-python",
   "name": "python",
   "nbconvert_exporter": "python",
   "pygments_lexer": "ipython3",
   "version": "3.8.5"
  }
 },
 "nbformat": 4,
 "nbformat_minor": 2
}
