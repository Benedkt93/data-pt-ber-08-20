{
 "cells": [
  {
   "cell_type": "code",
   "execution_count": 1,
   "metadata": {},
   "outputs": [],
   "source": [
    "# pip install world_bank_data --upgrade"
   ]
  },
  {
   "cell_type": "code",
   "execution_count": null,
   "metadata": {},
   "outputs": [],
   "source": [
    "import pandas as pd\n",
    "import world_bank_data as wb\n",
    "import seaborn as sns\n",
    "import numpy as np\n",
    "import matplotlib.pyplot as plt\n",
    "%matplotlib inline"
   ]
  },
  {
   "cell_type": "markdown",
   "metadata": {},
   "source": [
    "Documentation\n",
    "https://pypi.org/project/world-bank-data/\n",
    "\n",
    "Example: https://mybinder.org/v2/gh/mwouts/world_bank_data/master\n",
    "\n",
    "https://hub.gke2.mybinder.org/user/mwouts-world_bank_data-64c2qdnf/tree/examples"
   ]
  },
  {
   "cell_type": "markdown",
   "metadata": {},
   "source": [
    "### Overview API commands for testing purposes"
   ]
  },
  {
   "cell_type": "code",
   "execution_count": null,
   "metadata": {},
   "outputs": [],
   "source": [
    "#API commands\n",
    "wb.get_topics()\n",
    "wb.get_sources()\n",
    "wb.get_countries()\n",
    "wb.get_indicators(topics=1)"
   ]
  },
  {
   "cell_type": "markdown",
   "metadata": {},
   "source": [
    "### Overview of Indicators we are interested in"
   ]
  },
  {
   "cell_type": "markdown",
   "metadata": {},
   "source": [
    "* SP.POP.TOTL     : population\n",
    "* NY.GDP.MKTP.CD  :GDP\n",
    "* NY.GDP.PCAP.CD  :GDP_per_cap\n",
    "* SP.DYN.LE00.IN  :Life expectancy\n",
    "* SH.STA.DIAB.ZS  :Diabetes percent (% of population ages 20 to 79)\n",
    "* EN.ATM.CO2E.PC  :CO2 per cap\n",
    "* SL.UEM.TOTL.ZS  :Unemployment\n",
    "* EG.USE.PCAP.KG.OE :energy use per cap ## 224 empty\n",
    "* SE.PRM.CMPT.ZS : primary schooling competion rate # viel leer\n",
    "* SE.PRM.ENRL.TC.ZS   ::Pupil-teacher ratio, primary # 213 nan\n",
    "* SE.ADT.1524.LT.ZS :: literacy_youth #viel leer\n",
    "* SE.XPD.TOTL.GD.ZS :: Government expenditure on education, total (% of GDP)#203 leer\n",
    "* SP.RUR.TOTL.ZS ::: % Rural Pop\n",
    "* EG.USE.PCAP.KG.OE :: Energy use per capita in kg of oil\n",
    "* EG.FEC.RNEW.ZS Renewable energy consumption (% of total final energy consumption)\n",
    "* EN.ATM.PM25.MC.ZS Population suffering fom airpolution\n"
   ]
  },
  {
   "cell_type": "markdown",
   "metadata": {},
   "source": [
    "### Setting up our dataframe with countries and indicators\n"
   ]
  },
  {
   "cell_type": "code",
   "execution_count": null,
   "metadata": {},
   "outputs": [],
   "source": [
    "#picking countries\n",
    "df=pd.DataFrame()\n",
    "df['Country']=list(wb.get_countries()['name'].loc[wb.get_countries()['region'] != 'Aggregates'])"
   ]
  },
  {
   "cell_type": "code",
   "execution_count": null,
   "metadata": {},
   "outputs": [],
   "source": [
    "indicators = [\"SP.POP.TOTL\",\"NY.GDP.MKTP.CD\",\"NY.GDP.PCAP.CD\",'SP.DYN.LE00.IN','SH.STA.DIAB.ZS','EN.ATM.CO2E.PC','SE.PRM.ENRL.TC.ZS','SL.UEM.TOTL.ZS','SE.XPD.TOTL.GD.ZS','SP.RUR.TOTL.ZS','EG.FEC.RNEW.ZS','EN.ATM.PM25.MC.ZS']\n",
    "from functools import reduce\n",
    "data_all = []\n",
    "for i in range(0, (len(indicators))):\n",
    "    data = pd.DataFrame(wb.get_series(indicators[i],mrv=1)).reset_index()\n",
    "    data = data.drop(labels=['Series','Year'],axis='columns')\n",
    "    data_all.append(data)\n",
    "    \n",
    "data_all\n",
    "df = reduce(lambda df1,df2: pd.merge(df1,df2,on='Country'), data_all).rename(columns={\"SP.POP.TOTL\":'population',\"NY.GDP.MKTP.CD\":'GDP_in_Dollar','NY.GDP.PCAP.CD':'gdp_per_cap','SP.DYN.LE00.IN':'life_exp','SH.STA.DIAB.ZS':'diabetes_percent','EN.ATM.CO2E.PC':'co2_per_cap','SL.UEM.TOTL.ZS':'unemp','SE.PRM.ENRL.TC.ZS':'teacher','SP.RUR.TOTL.ZS':'rural_pop','EG.FEC.RNEW.ZS':'renewable_percent','SE.XPD.TOTL.GD.ZS':'educat_expen','EN.ATM.PM25.MC.ZS':'airpollution'})\n",
    "df"
   ]
  },
  {
   "cell_type": "code",
   "execution_count": null,
   "metadata": {},
   "outputs": [],
   "source": [
    "# all features with explanation\n",
    "descriptions=[]\n",
    "for i in range(len(indicators)):\n",
    "    descriptions.append(wb.get_series(indicators[i],mrv=1).reset_index()['Series'].unique())\n",
    "\n",
    "desc=pd.DataFrame(descriptions,indicators).reset_index().rename(columns={'index':'abbrev','0':'Description'})"
   ]
  },
  {
   "cell_type": "code",
   "execution_count": null,
   "metadata": {
    "scrolled": true
   },
   "outputs": [],
   "source": [
    "desc"
   ]
  },
  {
   "cell_type": "markdown",
   "metadata": {},
   "source": [
    "#### addin a line indicating how many values are missing in the respective column"
   ]
  },
  {
   "cell_type": "code",
   "execution_count": null,
   "metadata": {},
   "outputs": [],
   "source": [
    "empty=pd.DataFrame(df.isnull().sum()).transpose()"
   ]
  },
  {
   "cell_type": "code",
   "execution_count": null,
   "metadata": {},
   "outputs": [],
   "source": [
    "pd.concat([empty,df],axis=0)"
   ]
  },
  {
   "cell_type": "markdown",
   "metadata": {},
   "source": [
    "### droping columns with loads of missing data"
   ]
  },
  {
   "cell_type": "code",
   "execution_count": null,
   "metadata": {},
   "outputs": [],
   "source": [
    "df.drop([\"teacher\",\"educat_expen\"], axis=1, inplace=True)"
   ]
  },
  {
   "cell_type": "markdown",
   "metadata": {},
   "source": [
    "### Subsetting for countries that miss no data"
   ]
  },
  {
   "cell_type": "code",
   "execution_count": null,
   "metadata": {
    "scrolled": true
   },
   "outputs": [],
   "source": [
    "df.dropna(axis=0, how='any',inplace=True)\n",
    "df.head()"
   ]
  },
  {
   "cell_type": "markdown",
   "metadata": {},
   "source": [
    "### LOOKING AT INDIVIFUAL VALUES"
   ]
  },
  {
   "cell_type": "code",
   "execution_count": null,
   "metadata": {},
   "outputs": [],
   "source": []
  },
  {
   "cell_type": "code",
   "execution_count": null,
   "metadata": {},
   "outputs": [],
   "source": []
  },
  {
   "cell_type": "markdown",
   "metadata": {},
   "source": [
    "### multicollinearity"
   ]
  },
  {
   "cell_type": "code",
   "execution_count": null,
   "metadata": {},
   "outputs": [],
   "source": [
    "df_corr = pd.DataFrame(df,columns=['Population_in_mil','gdp_per_cap',\"life_exp\",\"diabetes_percent\",\"co2_per_cap\",\"unemp\",\"rural_pop\",\"renewable_percent\",\"airpolution\"]).corr()\n",
    "df_corr"
   ]
  },
  {
   "cell_type": "code",
   "execution_count": null,
   "metadata": {},
   "outputs": [],
   "source": [
    "corr = df.drop(['GDP_in_Dollar','population'],axis=1).corr() #correlation matix ohne gsd und ohne population\n",
    "f, ax = plt.subplots(figsize=(15, 15)) \n",
    "mask = np.triu(np.ones_like(corr, dtype=bool)) # removing the other side of the heatmap \n",
    "cmap = sns.diverging_palette(230, 20, as_cmap=True) \n",
    "#preparing cmap \n",
    "sns.heatmap(corr,mask=mask,cmap=cmap,linewidths=.5,square=True,annot=True) \n",
    "plt.show()"
   ]
  },
  {
   "cell_type": "markdown",
   "metadata": {},
   "source": [
    "### Standardizing numeric features"
   ]
  },
  {
   "cell_type": "code",
   "execution_count": null,
   "metadata": {},
   "outputs": [],
   "source": [
    "# standardizer\n",
    "from sklearn.preprocessing import StandardScaler\n",
    "df_num=df.select_dtypes(include = np.number)\n",
    "transformer = StandardScaler().fit(df_num)\n",
    "num_stand_array = transformer.transform(df_num)\n",
    "df_num_stand=pd.DataFrame(num_stand_array, columns=df_num.columns)\n",
    "df_num_stand.describe()\n",
    "#looking good"
   ]
  },
  {
   "cell_type": "code",
   "execution_count": null,
   "metadata": {},
   "outputs": [],
   "source": [
    "df_num_stand"
   ]
  },
  {
   "cell_type": "markdown",
   "metadata": {},
   "source": [
    "### How many clusters we need with Silhouette Score"
   ]
  },
  {
   "cell_type": "code",
   "execution_count": null,
   "metadata": {},
   "outputs": [],
   "source": [
    "df_num_stand.drop(['GDP_in_Dollar','population'],axis=1,inplace=True)"
   ]
  },
  {
   "cell_type": "code",
   "execution_count": null,
   "metadata": {},
   "outputs": [],
   "source": [
    "# How many clusters???\n",
    "from sklearn.cluster import KMeans\n",
    "from sklearn.metrics import silhouette_score\n",
    "\n",
    "K = range(2,12) # \n",
    "silhouette_kmeans = []\n",
    "\n",
    "for k in K:\n",
    "    model = KMeans(n_clusters=k)\n",
    "    model.fit(df_num_stand)\n",
    "    silhouette_kmeans.append(silhouette_score(df_num_stand, model.fit_predict(df_num_stand)))\n",
    "\n",
    "plt.figure(figsize=(16,8))\n",
    "sns.set_style('darkgrid')\n",
    "plt.plot(K, silhouette_kmeans, 'bo-',color='black')\n",
    "plt.xlabel('k')\n",
    "plt.ylabel('silhouette score')\n",
    "plt.xticks(np.arange(min(K), max(K)+1, 1.0))\n",
    "plt.title('Silhouette Score for KMeans')"
   ]
  },
  {
   "cell_type": "markdown",
   "metadata": {},
   "source": [
    "### KMEANS WITH 3 CLUSTERS"
   ]
  },
  {
   "cell_type": "code",
   "execution_count": null,
   "metadata": {},
   "outputs": [],
   "source": [
    "#3 cluster solution\n",
    "from sklearn.cluster import KMeans\n",
    "\n",
    "#labels\n",
    "model_3 = KMeans(n_clusters=3, random_state = 1000).fit(df_num_stand)\n",
    "\n",
    "df_num_stand[\"cluster\"] = model_3.labels_ #adding a column that tells in which cluster a record ends up\n",
    "df_num_stand"
   ]
  },
  {
   "cell_type": "code",
   "execution_count": null,
   "metadata": {},
   "outputs": [],
   "source": [
    "df_cluster_3=pd.concat([df.reset_index(drop=True),df_num_stand.cluster.reset_index(drop=True)],axis=1)\n",
    "df_cluster_3"
   ]
  },
  {
   "cell_type": "code",
   "execution_count": null,
   "metadata": {},
   "outputs": [],
   "source": [
    "df_cluster_3['cluster'].value_counts()"
   ]
  },
  {
   "cell_type": "markdown",
   "metadata": {},
   "source": [
    "### KMEANS MAP PRESENTATION 3 CLUSTERS\n",
    "GEO PANDAS https://geopandas.org/mapping.html"
   ]
  },
  {
   "cell_type": "code",
   "execution_count": null,
   "metadata": {},
   "outputs": [],
   "source": [
    "import geopandas as gpd\n",
    "import matplotlib.pyplot as plt"
   ]
  },
  {
   "cell_type": "code",
   "execution_count": null,
   "metadata": {},
   "outputs": [],
   "source": [
    "world = gpd.read_file(gpd.datasets.get_path('naturalearth_lowres'))\n",
    "world=world.rename(columns={'name':'Country'})"
   ]
  },
  {
   "cell_type": "markdown",
   "metadata": {},
   "source": [
    "various countries are slightly differently named by geopandas vs. worldbank.\n",
    "* trying to take care of this with manually setting up a dictionary\n",
    "* countries will be missing in the map - noteably France & Italy - since they had missing values in the releveant world bank data"
   ]
  },
  {
   "cell_type": "code",
   "execution_count": null,
   "metadata": {},
   "outputs": [],
   "source": [
    "dic={'United States of America':'United States',\n",
    "'Russia':'Russian Federation',\n",
    "'South Korea': 'Korea, Rep.',\n",
    "'Egypt': 'Egypt, Arab Rep.',\n",
    "'Bosnia and Herz.':'Bosnia and Herzegovina',\n",
    "'Central African Rep.':'Central African Republic',\n",
    "\"Côte d'Ivoire\":\"Cote d'Ivoire\",\n",
    "'Dem. Rep. Congo':'Congo, Dem. Rep.',\n",
    "'Eq. Guinea':'Equatorial Guinea',\n",
    "'Yemen':'Yemen, Rep.',\n",
    "'Slovakia':'Slovak Republic',\n",
    "'Kyrgyzstan':'Kyrgyz Republic'}"
   ]
  },
  {
   "cell_type": "code",
   "execution_count": null,
   "metadata": {},
   "outputs": [],
   "source": [
    "world.Country=world.Country.replace(dic)"
   ]
  },
  {
   "cell_type": "code",
   "execution_count": null,
   "metadata": {},
   "outputs": [],
   "source": [
    "world_3=world.merge(df_cluster_3[['Country','cluster']], on='Country', how='left')\n",
    "world_3['cluster']=world_3['cluster']\n"
   ]
  },
  {
   "cell_type": "code",
   "execution_count": null,
   "metadata": {},
   "outputs": [],
   "source": [
    "\n",
    "fig, ax = plt.subplots(figsize=(20,15))\n",
    "world_3.plot(ax=ax, column='cluster',cmap='tab20b')\n",
    "\n",
    "ax.set(xlabel='Longitude(Degrees)',ylabel='Latitude(Degrees)',title='3 CLUSTER MAP')\n",
    "plt.show()"
   ]
  },
  {
   "cell_type": "code",
   "execution_count": null,
   "metadata": {},
   "outputs": [],
   "source": []
  },
  {
   "cell_type": "markdown",
   "metadata": {},
   "source": [
    "###  KMEANS 3 CLUSTERS GDP vs DIABETES\n"
   ]
  },
  {
   "cell_type": "code",
   "execution_count": null,
   "metadata": {
    "scrolled": true
   },
   "outputs": [],
   "source": [
    "plt.figure(figsize=(10,10))\n",
    "ax=sns.scatterplot(data=df_cluster_3,x='gdp_per_cap',y='diabetes_percent',style='cluster', hue='cluster', palette='pastel',s=200)\n",
    "\n",
    "\n",
    "for i in range (len(df_cluster_3)):\n",
    "    ax.annotate(df_cluster_3['Country'].iloc[i], (df_cluster_3['gdp_per_cap'].iloc[i],df_cluster_3['diabetes_percent'].iloc[i]))\n",
    "plt.show()"
   ]
  },
  {
   "cell_type": "markdown",
   "metadata": {},
   "source": [
    "### KMEANS 3 CLUSTERS CO2 Emission vs Renwable Energy %"
   ]
  },
  {
   "cell_type": "code",
   "execution_count": null,
   "metadata": {},
   "outputs": [],
   "source": [
    "plt.figure(figsize=(10,10))\n",
    "ax=sns.scatterplot(data=df_cluster_3,x='renewable_percent',y='co2_per_cap',style='cluster', hue='cluster', palette='pastel',s=200)\n",
    "\n",
    "\n",
    "for i in range (len(df_cluster_3)):\n",
    "    ax.annotate(df_cluster_3['Country'].iloc[i], (df_cluster_3['renewable_percent'].iloc[i],df_cluster_3['co2_per_cap'].iloc[i]))\n",
    "plt.show()"
   ]
  },
  {
   "cell_type": "markdown",
   "metadata": {},
   "source": [
    "### KMEANS WITH 5 CLUSTERS"
   ]
  },
  {
   "cell_type": "code",
   "execution_count": null,
   "metadata": {},
   "outputs": [],
   "source": [
    "from sklearn.cluster import KMeans\n",
    "\n",
    "#labels\n",
    "model_5 = KMeans(n_clusters=5, random_state = 1000).fit(df_num_stand)\n",
    "\n",
    "df_num_stand[\"cluster\"] = model_5.labels_ #adding a column that tells in which cluster a record ends up\n",
    "df_num_stand"
   ]
  },
  {
   "cell_type": "code",
   "execution_count": null,
   "metadata": {},
   "outputs": [],
   "source": [
    "# ADDING CLUSTER TO THE ORIGINAL DATAFRAME WITH COUNTRY NAMES AGAIN\n",
    "df_cluster_5=pd.concat([df.reset_index(drop=True),df_num_stand.cluster.reset_index(drop=True)],axis=1)\n",
    "df_cluster_5"
   ]
  },
  {
   "cell_type": "code",
   "execution_count": null,
   "metadata": {},
   "outputs": [],
   "source": [
    "df_cluster_5['cluster'].value_counts()"
   ]
  },
  {
   "cell_type": "markdown",
   "metadata": {},
   "source": [
    "### KMEANS MAP PRESENTATION 5 CLUSTERS"
   ]
  },
  {
   "cell_type": "code",
   "execution_count": null,
   "metadata": {},
   "outputs": [],
   "source": [
    "world_5=world.merge(df_cluster_5[['Country','cluster']], on='Country', how='left')\n",
    "world_5['cluster']=world_5['cluster']"
   ]
  },
  {
   "cell_type": "code",
   "execution_count": null,
   "metadata": {},
   "outputs": [],
   "source": [
    "fig, ax = plt.subplots(figsize=(20,15))\n",
    "world_5.plot(ax=ax, column='cluster',cmap='tab20b',label='abc')\n",
    "ax.set(xlabel='Longitude(Degrees)',ylabel='Latitude(Degrees)',title='5 CLUSTER MAP')\n",
    "\n",
    "\n",
    "plt.show()"
   ]
  },
  {
   "cell_type": "code",
   "execution_count": null,
   "metadata": {},
   "outputs": [],
   "source": []
  },
  {
   "cell_type": "code",
   "execution_count": null,
   "metadata": {
    "scrolled": true
   },
   "outputs": [],
   "source": [
    "plt.figure(figsize=(10,10))\n",
    "ax=sns.scatterplot(data=df_cluster_5,x='gdp_per_cap',y='diabetes_percent',style='cluster', hue='cluster', palette='pastel',s=400)\n",
    "\n",
    "\n",
    "for i in range (len(df_cluster_5)):\n",
    "    ax.annotate(df_cluster_5['Country'].iloc[i], (df_cluster_5['gdp_per_cap'].iloc[i],df_cluster_5['diabetes_percent'].iloc[i]))"
   ]
  },
  {
   "cell_type": "markdown",
   "metadata": {},
   "source": [
    "# Hierarchical Clustering (Agglomerative)\n",
    "DIDNT MAKE IT WORK"
   ]
  },
  {
   "cell_type": "code",
   "execution_count": null,
   "metadata": {},
   "outputs": [],
   "source": [
    "# starting point my standardized dataframe\n",
    "df_agg=df_num_stand.drop(['cluster'],axis=1)\n"
   ]
  },
  {
   "cell_type": "code",
   "execution_count": null,
   "metadata": {},
   "outputs": [],
   "source": [
    "from sklearn.cluster import AgglomerativeClustering #is hierarchial clustering"
   ]
  },
  {
   "cell_type": "code",
   "execution_count": null,
   "metadata": {},
   "outputs": [],
   "source": [
    "K = range(2, 8)#different number of clusters\n",
    "silhouette = []\n",
    "\n",
    "for k in K:\n",
    "    model = AgglomerativeClustering(n_clusters=k)\n",
    "    model.fit(df_agg)\n",
    "    silhouette.append(silhouette_score(df_agg, model.fit_predict(df_agg)))\n",
    "\n",
    "plt.figure(figsize=(16,8))\n",
    "plt.plot(K, silhouette, 'bx-')\n",
    "plt.xlabel('k')\n",
    "plt.ylabel('Silhouette Score')\n",
    "plt.xticks(np.arange(min(K), max(K)+1, 1.0))\n",
    "plt.title('Silhouette Score for Agglomerative Clustering')\n",
    "\n",
    "# only wants 2 clusters"
   ]
  },
  {
   "cell_type": "code",
   "execution_count": null,
   "metadata": {},
   "outputs": [],
   "source": [
    "model_agg = AgglomerativeClustering(n_clusters=2)# chose number of clusters by n_clusters, distance_thershold would be a different option\n",
    "df_agg['cluster'] = model_agg.fit_predict(df_agg)\n",
    "df_agg.head()"
   ]
  },
  {
   "cell_type": "code",
   "execution_count": null,
   "metadata": {},
   "outputs": [],
   "source": [
    "# ADDING CLUSTER TO THE ORIGINAL DATAFRAME WITH COUNTRY NAMES AGAIN\n",
    "df_agg_2=pd.concat([df.reset_index(drop=True),df_agg.cluster.reset_index(drop=True)],axis=1)\n",
    "df_agg_2['cluster'].value_counts()"
   ]
  },
  {
   "cell_type": "code",
   "execution_count": null,
   "metadata": {},
   "outputs": [],
   "source": [
    "df_agg_2"
   ]
  },
  {
   "cell_type": "code",
   "execution_count": null,
   "metadata": {},
   "outputs": [],
   "source": [
    "#dendrogram\n",
    "from scipy.cluster.hierarchy import dendrogram, linkage\n",
    "Z = linkage(df_agg)\n",
    "plt.figure(figsize=(25, 10))\n",
    "dendrogram(Z) \n",
    "#plt.xticks(np.arange(len(df_agg_2)),list(df_agg_2.Country))\n",
    "plt.show()"
   ]
  },
  {
   "cell_type": "code",
   "execution_count": null,
   "metadata": {},
   "outputs": [],
   "source": [
    "#######################DIDNT MAKE IT WORK#######################"
   ]
  },
  {
   "cell_type": "code",
   "execution_count": null,
   "metadata": {},
   "outputs": [],
   "source": []
  },
  {
   "cell_type": "code",
   "execution_count": null,
   "metadata": {},
   "outputs": [],
   "source": []
  },
  {
   "cell_type": "markdown",
   "metadata": {},
   "source": [
    "# PCA\n"
   ]
  },
  {
   "cell_type": "code",
   "execution_count": null,
   "metadata": {},
   "outputs": [],
   "source": [
    "#overviewing our features\n",
    "df.columns"
   ]
  },
  {
   "cell_type": "code",
   "execution_count": null,
   "metadata": {},
   "outputs": [],
   "source": [
    "from sklearn.decomposition import PCA\n",
    "\n",
    "X=df.drop(['Country','population', 'gdp_per_cap'],axis=1)\n",
    "#gdp_per_cap important!\n",
    "\n",
    "pca=PCA(n_components=4)\n",
    "pca.fit(X)\n",
    "components=pca.transform(X)\n",
    "pd.DataFrame(components)\n"
   ]
  },
  {
   "cell_type": "markdown",
   "metadata": {},
   "source": [
    "# KMEANS CLUSTERIN WITHOUT ANY GDP VALUE"
   ]
  },
  {
   "cell_type": "code",
   "execution_count": null,
   "metadata": {},
   "outputs": [],
   "source": [
    "#picking countries\n",
    "df=pd.DataFrame()\n",
    "df['Country']=list(wb.get_countries()['name'].loc[wb.get_countries()['region'] != 'Aggregates'])"
   ]
  },
  {
   "cell_type": "code",
   "execution_count": null,
   "metadata": {},
   "outputs": [],
   "source": [
    "indicators = [\"SP.POP.TOTL\",\"NY.GDP.MKTP.CD\",\"NY.GDP.PCAP.CD\",'SP.DYN.LE00.IN','SH.STA.DIAB.ZS','EN.ATM.CO2E.PC','SE.PRM.ENRL.TC.ZS','SL.UEM.TOTL.ZS','SE.XPD.TOTL.GD.ZS','SP.RUR.TOTL.ZS','EG.FEC.RNEW.ZS','EN.ATM.PM25.MC.ZS']\n",
    "from functools import reduce\n",
    "data_all = []\n",
    "for i in range(0, (len(indicators))):\n",
    "    data = pd.DataFrame(wb.get_series(indicators[i],mrv=1)).reset_index()\n",
    "    data = data.drop(labels=['Series','Year'],axis='columns')\n",
    "    data_all.append(data)\n",
    "    \n",
    "data_all\n",
    "df = reduce(lambda df1,df2: pd.merge(df1,df2,on='Country'), data_all).rename(columns={\"SP.POP.TOTL\":'population',\"NY.GDP.MKTP.CD\":'GDP_in_Dollar','NY.GDP.PCAP.CD':'gdp_per_cap','SP.DYN.LE00.IN':'life_exp','SH.STA.DIAB.ZS':'diabetes_percent','EN.ATM.CO2E.PC':'co2_per_cap','SL.UEM.TOTL.ZS':'unemp','SE.PRM.ENRL.TC.ZS':'teacher','SP.RUR.TOTL.ZS':'rural_pop','EG.FEC.RNEW.ZS':'renewable_percent','SE.XPD.TOTL.GD.ZS':'educat_expen','EN.ATM.PM25.MC.ZS':'airpollution'})\n"
   ]
  },
  {
   "cell_type": "code",
   "execution_count": null,
   "metadata": {},
   "outputs": [],
   "source": [
    "df.drop([\"teacher\",\"educat_expen\",'population','gdp_per_cap','GDP_in_Dollar'], axis=1, inplace=True)\n",
    "df"
   ]
  },
  {
   "cell_type": "code",
   "execution_count": null,
   "metadata": {},
   "outputs": [],
   "source": [
    "df.dropna(axis=0, how='any',inplace=True)\n",
    "df.head()"
   ]
  },
  {
   "cell_type": "markdown",
   "metadata": {},
   "source": [
    "#### Correlation Matrix WITHOUT ANY GDP VALUES"
   ]
  },
  {
   "cell_type": "code",
   "execution_count": null,
   "metadata": {},
   "outputs": [],
   "source": [
    "corr = df.corr() #correlation matix ohne gsd und ohne population\n",
    "f, ax = plt.subplots(figsize=(15, 15)) \n",
    "mask = np.triu(np.ones_like(corr, dtype=bool)) # removing the other side of the heatmap \n",
    "cmap = sns.diverging_palette(230, 20, as_cmap=True) \n",
    "#preparing cmap \n",
    "sns.heatmap(corr,mask=mask,cmap=cmap,linewidths=.5,square=True,annot=True) \n",
    "plt.show()"
   ]
  },
  {
   "cell_type": "code",
   "execution_count": null,
   "metadata": {},
   "outputs": [],
   "source": [
    "# standardizer\n",
    "from sklearn.preprocessing import StandardScaler\n",
    "df_num=df.select_dtypes(include = np.number)\n",
    "transformer = StandardScaler().fit(df_num)\n",
    "num_stand_array = transformer.transform(df_num)\n",
    "df_num_stand=pd.DataFrame(num_stand_array, columns=df_num.columns)\n",
    "df_num_stand.describe()\n"
   ]
  },
  {
   "cell_type": "markdown",
   "metadata": {},
   "source": [
    "#### SILOUHETTE SCORE WITHOUT ANY GDP VALUES"
   ]
  },
  {
   "cell_type": "code",
   "execution_count": null,
   "metadata": {},
   "outputs": [],
   "source": [
    "from sklearn.cluster import KMeans\n",
    "from sklearn.metrics import silhouette_score\n",
    "\n",
    "K = range(2,12) # \n",
    "silhouette_kmeans = []\n",
    "\n",
    "for k in K:\n",
    "    model = KMeans(n_clusters=k)\n",
    "    model.fit(df_num_stand)\n",
    "    silhouette_kmeans.append(silhouette_score(df_num_stand, model.fit_predict(df_num_stand)))\n",
    "\n",
    "plt.figure(figsize=(16,8))\n",
    "sns.set_style('darkgrid')\n",
    "plt.plot(K, silhouette_kmeans, 'bo-',color='black')\n",
    "plt.xlabel('k')\n",
    "plt.ylabel('silhouette score')\n",
    "plt.xticks(np.arange(min(K), max(K)+1, 1.0))\n",
    "plt.title('Silhouette Score for KMeans')\n",
    "\n",
    "####\n",
    "# 5 clusters looks best"
   ]
  },
  {
   "cell_type": "code",
   "execution_count": null,
   "metadata": {},
   "outputs": [],
   "source": [
    "#5 cluster solution\n",
    "from sklearn.cluster import KMeans\n",
    "\n",
    "#labels\n",
    "model_5_nogdp= KMeans(n_clusters=5, random_state = 1000).fit(df_num_stand)\n",
    "\n",
    "df_num_stand[\"cluster\"] = model_5_nogdp.labels_ #adding a column that tells in which cluster a record ends up\n",
    "df_num_stand"
   ]
  },
  {
   "cell_type": "code",
   "execution_count": null,
   "metadata": {},
   "outputs": [],
   "source": [
    "df_cluster_5_nogdp=pd.concat([df.reset_index(drop=True),df_num_stand.cluster.reset_index(drop=True)],axis=1)\n"
   ]
  },
  {
   "cell_type": "code",
   "execution_count": null,
   "metadata": {},
   "outputs": [],
   "source": [
    "df_cluster_5_nogdp['cluster'].value_counts()"
   ]
  },
  {
   "cell_type": "markdown",
   "metadata": {},
   "source": [
    "#### MAPPING WITHOUT ANY GDP VALUES"
   ]
  },
  {
   "cell_type": "code",
   "execution_count": null,
   "metadata": {},
   "outputs": [],
   "source": [
    "world_5_nogdp=world.merge(df_cluster_5_nogdp[['Country','cluster']], on='Country', how='left')\n",
    "world_5_nogdp['cluster']=world_5_nogdp['cluster']"
   ]
  },
  {
   "cell_type": "code",
   "execution_count": null,
   "metadata": {},
   "outputs": [],
   "source": [
    "fig, ax = plt.subplots(figsize=(20,15))\n",
    "world_5_nogdp.plot(ax=ax, column='cluster',cmap='tab20',label='abc')\n",
    "ax.set(xlabel='Longitude(Degrees)',ylabel='Latitude(Degrees)',title='5 CLUSTER MAP WITHOUT GDP VALUES')\n",
    "\n",
    "\n",
    "plt.show()"
   ]
  },
  {
   "cell_type": "code",
   "execution_count": null,
   "metadata": {},
   "outputs": [],
   "source": []
  }
 ],
 "metadata": {
  "kernelspec": {
   "display_name": "Python 3",
   "language": "python",
   "name": "python3"
  },
  "language_info": {
   "codemirror_mode": {
    "name": "ipython",
    "version": 3
   },
   "file_extension": ".py",
   "mimetype": "text/x-python",
   "name": "python",
   "nbconvert_exporter": "python",
   "pygments_lexer": "ipython3",
   "version": "3.8.5"
  }
 },
 "nbformat": 4,
 "nbformat_minor": 4
}
