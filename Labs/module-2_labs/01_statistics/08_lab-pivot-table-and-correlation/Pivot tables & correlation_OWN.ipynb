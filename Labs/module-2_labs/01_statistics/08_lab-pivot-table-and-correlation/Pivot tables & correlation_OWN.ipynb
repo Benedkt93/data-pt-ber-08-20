{
 "cells": [
  {
   "cell_type": "code",
   "execution_count": 2,
   "metadata": {},
   "outputs": [],
   "source": [
    "import pandas as pd\n",
    "import numpy as np\n",
    "import seaborn as sns\n",
    "import matplotlib.pyplot as plt"
   ]
  },
  {
   "cell_type": "code",
   "execution_count": null,
   "metadata": {},
   "outputs": [],
   "source": [
    "vehicles = pd.read_csv(\"../../03_dmodule-2_labs/03_data-visualization/02_lab-matplotlib-seaborn/your-code/vehicles.csv\")"
   ]
  },
  {
   "cell_type": "code",
   "execution_count": null,
   "metadata": {},
   "outputs": [],
   "source": [
    "vehicles.head()"
   ]
  },
  {
   "cell_type": "code",
   "execution_count": null,
   "metadata": {},
   "outputs": [],
   "source": [
    "plt.scatter(vehicles[\"City MPG\"], vehicles[\"Combines MPG\"])"
   ]
  },
  {
   "cell_type": "code",
   "execution_count": null,
   "metadata": {},
   "outputs": [],
   "source": [
    "vehicles[\"City MPG\"].corr(vehicles[\"Combined MPG\"])"
   ]
  },
  {
   "cell_type": "code",
   "execution_count": null,
   "metadata": {},
   "outputs": [],
   "source": [
    "vehicles [\"City MPC\"].corr(vehicles[\"City MPG\"])\n",
    "# corr of varibale with itself is always one"
   ]
  },
  {
   "cell_type": "code",
   "execution_count": null,
   "metadata": {},
   "outputs": [],
   "source": [
    "veichles.corr()\n",
    "# will automaticlly select numerical varibales, but does not take other ones"
   ]
  },
  {
   "cell_type": "code",
   "execution_count": null,
   "metadata": {},
   "outputs": [],
   "source": [
    "sns.heatmap(vehicles.corr())\n",
    "\n",
    "#maybe color map is not intuitive\n",
    "# also numbers are reletive to correlations in data set"
   ]
  },
  {
   "cell_type": "code",
   "execution_count": null,
   "metadata": {},
   "outputs": [],
   "source": [
    "help(sns.heatmap)"
   ]
  },
  {
   "cell_type": "code",
   "execution_count": null,
   "metadata": {},
   "outputs": [],
   "source": [
    "# Therefore apply functions \n",
    "sns.heatmap(vehicles.corr(), vmin =-1, vmax = 1, cmap = \"YlGnBu\", annot = True)\n",
    "# now color from dark to bright when it comes to positive correlation (cmap)\n",
    "# annot get numbers in table\n",
    "\n",
    "#Insights from Headmap:\n",
    "#"
   ]
  },
  {
   "cell_type": "code",
   "execution_count": null,
   "metadata": {},
   "outputs": [],
   "source": [
    "vehicles.corr(method = \"spearman\")\n",
    "# spearman correllation efficient, will make a rank and correlate the ranks\n",
    "# takes care of outliers, less influenced from outliers"
   ]
  },
  {
   "cell_type": "code",
   "execution_count": null,
   "metadata": {},
   "outputs": [],
   "source": [
    "sns.heatmap(vehicles.corr(method = \"spearman\"), vmin =-1, vmax = 1, cmap = \"YlGnBu\", annot = True)"
   ]
  },
  {
   "cell_type": "markdown",
   "metadata": {},
   "source": [
    "### Pivot Tables"
   ]
  },
  {
   "cell_type": "code",
   "execution_count": null,
   "metadata": {},
   "outputs": [],
   "source": [
    "help(pd.pivot_table)\n",
    "# index necessary;\n",
    "# index is on what you want to group it"
   ]
  },
  {
   "cell_type": "code",
   "execution_count": null,
   "metadata": {},
   "outputs": [],
   "source": [
    "vehicles.pivot_table(index = \"Vehicle Class\")\n",
    "# default is numpy.mean by vehicle class "
   ]
  },
  {
   "cell_type": "code",
   "execution_count": null,
   "metadata": {},
   "outputs": [],
   "source": [
    "vehicles.pivot_table(index = \"Drivetrain\")"
   ]
  },
  {
   "cell_type": "code",
   "execution_count": null,
   "metadata": {},
   "outputs": [],
   "source": [
    "# try other aggregate function"
   ]
  },
  {
   "cell_type": "code",
   "execution_count": null,
   "metadata": {},
   "outputs": [],
   "source": [
    "vehicles.pivot_table(index = \"Drivetrain\", aggfunc = np.median)"
   ]
  },
  {
   "cell_type": "code",
   "execution_count": null,
   "metadata": {},
   "outputs": [],
   "source": [
    "vehicles.pivot_table(index = \"Drivetrain\", aggfunc = np.max)"
   ]
  },
  {
   "cell_type": "code",
   "execution_count": null,
   "metadata": {},
   "outputs": [],
   "source": [
    "vehicles.pivot_table(index = \"Drivetrain\", aggfunc = np.max)\n",
    "# we can also use custom function"
   ]
  },
  {
   "cell_type": "code",
   "execution_count": null,
   "metadata": {},
   "outputs": [],
   "source": [
    "vehicles.pivot_table(index = \"Drivetrain\", aggfunc = len)\n",
    "# for count"
   ]
  },
  {
   "cell_type": "code",
   "execution_count": null,
   "metadata": {},
   "outputs": [],
   "source": [
    "# we can pass it columns -> we will split data up additionally for the column value\n",
    "vehicles.pivot_table(index = \"Drivetrain\", aggfunc = len, columns 0 \"Year\")"
   ]
  },
  {
   "cell_type": "code",
   "execution_count": null,
   "metadata": {},
   "outputs": [],
   "source": [
    "# filling NaN values\n",
    "vehicles.pivot_table(index = \"Drivetrain\", aggfunc = len, columns 0 \"Year\", fill_value = 0)"
   ]
  },
  {
   "cell_type": "code",
   "execution_count": null,
   "metadata": {},
   "outputs": [],
   "source": [
    "# just some columns\n",
    "vehicles.pivot_table(index = \"Drivetrain\", aggfunc = len, columns 0 \"Year\", values = \"City MPG\" ,fill_value = 0)\n",
    "# for each of these you can specify lists\n",
    "\n",
    "# all is about multivariant data analysis: Start graphing, cross tab, piv, aggregation to get basic understanding"
   ]
  }
 ],
 "metadata": {
  "kernelspec": {
   "display_name": "Python 3",
   "language": "python",
   "name": "python3"
  },
  "language_info": {
   "codemirror_mode": {
    "name": "ipython",
    "version": 3
   },
   "file_extension": ".py",
   "mimetype": "text/x-python",
   "name": "python",
   "nbconvert_exporter": "python",
   "pygments_lexer": "ipython3",
   "version": "3.8.5"
  }
 },
 "nbformat": 4,
 "nbformat_minor": 4
}
