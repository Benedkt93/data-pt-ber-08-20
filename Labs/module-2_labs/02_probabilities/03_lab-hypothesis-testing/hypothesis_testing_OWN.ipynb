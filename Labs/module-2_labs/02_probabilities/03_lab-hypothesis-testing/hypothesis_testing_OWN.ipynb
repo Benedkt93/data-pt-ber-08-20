{
 "cells": [
  {
   "cell_type": "code",
   "execution_count": 1,
   "metadata": {},
   "outputs": [],
   "source": [
    "import numpy as np\n",
    "import pandas as pd\n",
    "from scipy import stats"
   ]
  },
  {
   "cell_type": "markdown",
   "metadata": {},
   "source": [
    "#### One sided hypothesis Tests"
   ]
  },
  {
   "cell_type": "code",
   "execution_count": 5,
   "metadata": {},
   "outputs": [
    {
     "name": "stdout",
     "output_type": "stream",
     "text": [
      "-3.750000000000003\n",
      "0.0001489332089038242\n"
     ]
    }
   ],
   "source": [
    "pop_mean = 5.7\n",
    "sample_mean = 5.1\n",
    "sample_std = 1.6\n",
    "n = 100\n",
    "\n",
    "statistic = (sample_mean - pop_mean)/(sample_std/np.sqrt(n))\n",
    "\n",
    "pval = stats.t.sf(np.abs(statistic), n-1) #sf = survival_function\n",
    "print(statistic)\n",
    "print(pval)\n",
    "# pval smaller 5%, therefore reject H_0"
   ]
  },
  {
   "cell_type": "code",
   "execution_count": 8,
   "metadata": {},
   "outputs": [],
   "source": [
    "# Prob to observe sth as extreme as this by pure chance, given that H0 is true"
   ]
  },
  {
   "cell_type": "code",
   "execution_count": 10,
   "metadata": {},
   "outputs": [
    {
     "data": {
      "text/plain": [
       "(4.78252528775861, 5.417474712241389)"
      ]
     },
     "execution_count": 10,
     "metadata": {},
     "output_type": "execute_result"
    }
   ],
   "source": [
    "# Confidence Intervall\n",
    "stats.t.interval(0.95, df=n-1, loc=sample_mean,scale=(sample_std/np.sqrt(n)))"
   ]
  },
  {
   "cell_type": "code",
   "execution_count": null,
   "metadata": {},
   "outputs": [],
   "source": []
  }
 ],
 "metadata": {
  "kernelspec": {
   "display_name": "Python 3",
   "language": "python",
   "name": "python3"
  },
  "language_info": {
   "codemirror_mode": {
    "name": "ipython",
    "version": 3
   },
   "file_extension": ".py",
   "mimetype": "text/x-python",
   "name": "python",
   "nbconvert_exporter": "python",
   "pygments_lexer": "ipython3",
   "version": "3.8.5"
  }
 },
 "nbformat": 4,
 "nbformat_minor": 4
}
